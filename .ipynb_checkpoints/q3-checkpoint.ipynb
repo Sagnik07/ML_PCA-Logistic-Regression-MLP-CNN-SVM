{
 "cells": [
  {
   "cell_type": "code",
   "execution_count": null,
   "metadata": {},
   "outputs": [],
   "source": [
    "from google.colab import drive\n",
    "drive.mount('/content/drive')"
   ]
  },
  {
   "cell_type": "code",
   "execution_count": 0,
   "metadata": {
    "colab": {},
    "colab_type": "code",
    "id": "f6TeHjEXyTNd"
   },
   "outputs": [],
   "source": [
    "!pip install python-mnist"
   ]
  },
  {
   "cell_type": "code",
   "execution_count": 0,
   "metadata": {
    "colab": {},
    "colab_type": "code",
    "id": "EaD8i4G-Ew-D"
   },
   "outputs": [],
   "source": [
    "import keras\n",
    "from tensorflow.keras.models import Sequential\n",
    "from tensorflow.keras.layers import Dense\n",
    "from tensorflow.keras.utils import to_categorical\n",
    "from mnist import MNIST\n",
    "import numpy as np\n",
    "import pandas as pd\n",
    "import matplotlib.pyplot as plt\n",
    "from sklearn.metrics import accuracy_score\n",
    "from sklearn.metrics import confusion_matrix\n",
    "from sklearn.metrics import classification_report\n",
    "from sklearn.metrics import f1_score\n",
    "from sklearn.metrics import precision_score\n",
    "from sklearn.metrics import recall_score"
   ]
  },
  {
   "cell_type": "markdown",
   "metadata": {
    "colab_type": "text",
    "id": "eioY6vWTjHaa"
   },
   "source": [
    "## We load the MNIST data into the training and testing sets"
   ]
  },
  {
   "cell_type": "code",
   "execution_count": 0,
   "metadata": {
    "colab": {},
    "colab_type": "code",
    "id": "1JEIeoQ0xnl_"
   },
   "outputs": [],
   "source": [
    "mndata = MNIST('/content/drive/My Drive/SMAI_Assignment3_Dataset/dataset_q3')\n",
    "mndata.gz = True\n",
    "X_train, y_train = mndata.load_training()"
   ]
  },
  {
   "cell_type": "code",
   "execution_count": 125,
   "metadata": {
    "colab": {
     "base_uri": "https://localhost:8080/",
     "height": 69
    },
    "colab_type": "code",
    "id": "uk0L3yus1b0r",
    "outputId": "fc6061cd-7837-43ee-9cd2-6bcc937b80cc"
   },
   "outputs": [
    {
     "name": "stdout",
     "output_type": "stream",
     "text": [
      "10000\n",
      "10000\n",
      "784\n"
     ]
    }
   ],
   "source": [
    "X_test, y_test = mndata.load_testing()\n",
    "print(len(X_test))\n",
    "print(len(y_test))\n",
    "print(len(X_test[0]))\n",
    "y_test = list(y_test)"
   ]
  },
  {
   "cell_type": "code",
   "execution_count": 126,
   "metadata": {
    "colab": {
     "base_uri": "https://localhost:8080/",
     "height": 52
    },
    "colab_type": "code",
    "id": "yVePUv2hAGDy",
    "outputId": "5bcea899-135f-40df-ce21-fe69a3cd38df"
   },
   "outputs": [
    {
     "name": "stdout",
     "output_type": "stream",
     "text": [
      "(60000, 784)\n",
      "(60000,)\n"
     ]
    }
   ],
   "source": [
    "X_train = np.array(X_train)\n",
    "y_train = np.array(y_train)\n",
    "X_test = np.array(X_test)\n",
    "y_test = np.array(y_test)\n",
    "print(X_train.shape)\n",
    "print(y_train.shape)"
   ]
  },
  {
   "cell_type": "markdown",
   "metadata": {
    "colab_type": "text",
    "id": "eioY6vWTjHaa"
   },
   "source": [
    "# Support Vector Machine (SVM)"
   ]
  },
  {
   "cell_type": "markdown",
   "metadata": {
    "colab_type": "text",
    "id": "eH3A_wo71kEz"
   },
   "source": [
    "## SVM model 1 using C=2 and the default kernel = 'rbf'"
   ]
  },
  {
   "cell_type": "code",
   "execution_count": 0,
   "metadata": {
    "colab": {},
    "colab_type": "code",
    "id": "HDmplpMt6cam"
   },
   "outputs": [],
   "source": [
    "from sklearn.svm import SVC\n",
    "clf = SVC(C=2.0)\n",
    "clf.fit(X_train, y_train)\n",
    "y_pred = clf.predict(X_test)\n",
    "accuracy = accuracy_score(y_test, y_pred)"
   ]
  },
  {
   "cell_type": "markdown",
   "metadata": {
    "colab_type": "text",
    "id": "j1do8Lj834hU"
   },
   "source": [
    "### The accuracy, f1 score, precision score, recall score and confusion matrix obtained by running the model is shown below"
   ]
  },
  {
   "cell_type": "code",
   "execution_count": 128,
   "metadata": {
    "colab": {
     "base_uri": "https://localhost:8080/",
     "height": 278
    },
    "colab_type": "code",
    "id": "2PzJAOQpxzxp",
    "outputId": "2d27dcff-f885-41d5-fb91-cb6656d852fd"
   },
   "outputs": [
    {
     "name": "stdout",
     "output_type": "stream",
     "text": [
      "Accuracy:  0.9831\n",
      "f1 score:  0.9830916493531652\n",
      "Precision score:  0.9830983682809287\n",
      "Recall score:  0.9831\n",
      "Confusion matrix: \n",
      " [[ 973    0    1    0    0    3    0    1    2    0]\n",
      " [   0 1127    3    1    0    1    1    1    1    0]\n",
      " [   6    1 1012    0    1    0    1    7    3    1]\n",
      " [   0    0    1  997    0    3    0    4    3    2]\n",
      " [   0    0    4    0  966    0    3    0    1    8]\n",
      " [   2    0    0    6    1  876    3    0    3    1]\n",
      " [   4    2    0    0    2    3  946    0    1    0]\n",
      " [   0    5   10    2    1    0    0 1005    0    5]\n",
      " [   3    0    2    3    4    3    1    2  951    5]\n",
      " [   2    2    0    7   10    1    1    7    1  978]]\n"
     ]
    }
   ],
   "source": [
    "a_svm1 = accuracy\n",
    "f1_svm1 = f1_score(y_test, y_pred, average='weighted')\n",
    "p_svm1 = precision_score(y_test, y_pred, average='weighted')\n",
    "r_svm1 = recall_score(y_test, y_pred, average='weighted')\n",
    "print(\"Accuracy: \", a_svm1)\n",
    "print(\"f1 score: \",f1_svm1)\n",
    "print(\"Precision score: \",p_svm1)\n",
    "print(\"Recall score: \",r_svm1)\n",
    "print(\"Confusion matrix: \\n\", confusion_matrix(y_test, y_pred))"
   ]
  },
  {
   "cell_type": "markdown",
   "metadata": {
    "colab_type": "text",
    "id": "bsn4cNFk19d3"
   },
   "source": [
    "## SVM model 2 using C=2 and kernel = 'poly'"
   ]
  },
  {
   "cell_type": "code",
   "execution_count": 0,
   "metadata": {
    "colab": {},
    "colab_type": "code",
    "id": "ZH2-jhWwP9cF"
   },
   "outputs": [],
   "source": [
    "clf = SVC(C=2.0, kernel='poly')\n",
    "clf.fit(X_train, y_train)\n",
    "y_pred1 = clf.predict(X_test)\n",
    "accuracy1 = accuracy_score(y_test, y_pred1)"
   ]
  },
  {
   "cell_type": "markdown",
   "metadata": {
    "colab_type": "text",
    "id": "j1do8Lj834hU"
   },
   "source": [
    "### The accuracy, f1 score, precision score, recall score and confusion matrix obtained by running the model is shown below"
   ]
  },
  {
   "cell_type": "code",
   "execution_count": 130,
   "metadata": {
    "colab": {
     "base_uri": "https://localhost:8080/",
     "height": 278
    },
    "colab_type": "code",
    "id": "HxKO_mdBxvk_",
    "outputId": "d3b2fee1-4c6c-49ff-b05b-74e8965df0cc"
   },
   "outputs": [
    {
     "name": "stdout",
     "output_type": "stream",
     "text": [
      "Accuracy:  0.9785\n",
      "f1 score:  0.9784814949100687\n",
      "Precision score:  0.9785009643261748\n",
      "Recall score:  0.9785\n",
      "Confusion matrix: \n",
      " [[ 971    0    1    1    0    3    1    1    2    0]\n",
      " [   0 1128    2    1    0    0    3    0    1    0]\n",
      " [   7    3 1006    0    2    0    4    8    2    0]\n",
      " [   0    2    2  986    0    6    0    5    5    4]\n",
      " [   2    0    2    0  965    0    4    0    0    9]\n",
      " [   2    0    1    9    1  867    4    1    5    2]\n",
      " [   4    5    2    0    3    4  938    0    2    0]\n",
      " [   0   11    8    1    1    0    0  999    0    8]\n",
      " [   3    0    1    4    4    3    1    3  953    2]\n",
      " [   2    6    1    4   12    5    1    4    2  972]]\n"
     ]
    }
   ],
   "source": [
    "a_svm2 = accuracy1\n",
    "f1_svm2 = f1_score(y_test, y_pred1, average='weighted')\n",
    "p_svm2 = precision_score(y_test, y_pred1, average='weighted')\n",
    "r_svm2 = recall_score(y_test, y_pred1, average='weighted')\n",
    "print(\"Accuracy: \", a_svm2)\n",
    "print(\"f1 score: \",f1_svm2)\n",
    "print(\"Precision score: \",p_svm2)\n",
    "print(\"Recall score: \",r_svm2)\n",
    "print(\"Confusion matrix: \\n\", confusion_matrix(y_test, y_pred1))"
   ]
  },
  {
   "cell_type": "markdown",
   "metadata": {
    "colab_type": "text",
    "id": "W9T-LUpq1nal"
   },
   "source": [
    "## SVM model 3 using LinearSVC module and C=1. \n",
    "### The maximum number of iterations allowed is set as 10000 because of which  we see a drop in the accuracy as it did not converge in 10000 iterations."
   ]
  },
  {
   "cell_type": "code",
   "execution_count": 131,
   "metadata": {
    "colab": {
     "base_uri": "https://localhost:8080/",
     "height": 72
    },
    "colab_type": "code",
    "id": "sK4kEv8k2heW",
    "outputId": "40e0d232-2632-4d85-b36f-1ac6e73fa91a"
   },
   "outputs": [
    {
     "name": "stderr",
     "output_type": "stream",
     "text": [
      "/usr/local/lib/python3.6/dist-packages/sklearn/svm/_base.py:947: ConvergenceWarning: Liblinear failed to converge, increase the number of iterations.\n",
      "  \"the number of iterations.\", ConvergenceWarning)\n"
     ]
    }
   ],
   "source": [
    "from sklearn.svm import LinearSVC\n",
    "clf_c1 = LinearSVC(C=1.0, max_iter=10000)\n",
    "clf_c1.fit(X_train, y_train)\n",
    "y_pred_c1 = clf_c1.predict(X_test)\n",
    "accuracy_c1 = accuracy_score(y_test, y_pred_c1)"
   ]
  },
  {
   "cell_type": "markdown",
   "metadata": {
    "colab_type": "text",
    "id": "j1do8Lj834hU"
   },
   "source": [
    "### The accuracy, f1 score, precision score, recall score and confusion matrix obtained by running the model is shown below"
   ]
  },
  {
   "cell_type": "code",
   "execution_count": 132,
   "metadata": {
    "colab": {
     "base_uri": "https://localhost:8080/",
     "height": 278
    },
    "colab_type": "code",
    "id": "_fXZQogSxeih",
    "outputId": "09f73ab8-2ac6-497f-8bee-1ff62cf9cdf9"
   },
   "outputs": [
    {
     "name": "stdout",
     "output_type": "stream",
     "text": [
      "Accuracy:  0.8782\n",
      "f1 score:  0.8786973405507397\n",
      "Precision score:  0.8847569307948001\n",
      "Recall score:  0.8782\n",
      "Confusion matrix: \n",
      " [[ 905    1   15    2    2   19    7    9   10   10]\n",
      " [   0 1102   15    2    0    1    4    0   11    0]\n",
      " [   3   13  937   12   13    3   11   11   25    4]\n",
      " [   3    4   49  850    3   28    2    8   35   28]\n",
      " [   0    5   11    1  906    0    3    1    4   51]\n",
      " [   4    6   10   29   21  750   17    4   31   20]\n",
      " [   8    5   43    1    6   20  867    0    7    1]\n",
      " [   0   17   29    2   17    2    1  788    4  168]\n",
      " [   3    8   52   22   15   32   14   10  758   60]\n",
      " [   1   10   11    8   39    7    0    6    8  919]]\n"
     ]
    }
   ],
   "source": [
    "a_svm3 = accuracy_c1\n",
    "f1_svm3 = f1_score(y_test, y_pred_c1, average='weighted')\n",
    "p_svm3 = precision_score(y_test, y_pred_c1, average='weighted')\n",
    "r_svm3 = recall_score(y_test, y_pred_c1, average='weighted')\n",
    "print(\"Accuracy: \", a_svm3)\n",
    "print(\"f1 score: \",f1_svm3)\n",
    "print(\"Precision score: \",p_svm3)\n",
    "print(\"Recall score: \",r_svm3)\n",
    "print(\"Confusion matrix: \\n\", confusion_matrix(y_test, y_pred_c1))"
   ]
  },
  {
   "cell_type": "markdown",
   "metadata": {
    "colab_type": "text",
    "id": "92uKP9s05ODh"
   },
   "source": [
    "# Summary of the SVM models"
   ]
  },
  {
   "cell_type": "code",
   "execution_count": 146,
   "metadata": {
    "colab": {
     "base_uri": "https://localhost:8080/",
     "height": 143
    },
    "colab_type": "code",
    "id": "eFtcE9Ug2nZj",
    "outputId": "40739fe5-5f34-4180-e5bd-121a0fecae78"
   },
   "outputs": [
    {
     "data": {
      "text/html": [
       "<div>\n",
       "<style scoped>\n",
       "    .dataframe tbody tr th:only-of-type {\n",
       "        vertical-align: middle;\n",
       "    }\n",
       "\n",
       "    .dataframe tbody tr th {\n",
       "        vertical-align: top;\n",
       "    }\n",
       "\n",
       "    .dataframe thead th {\n",
       "        text-align: right;\n",
       "    }\n",
       "</style>\n",
       "<table border=\"1\" class=\"dataframe\">\n",
       "  <thead>\n",
       "    <tr style=\"text-align: right;\">\n",
       "      <th></th>\n",
       "      <th>Model</th>\n",
       "      <th>Accuracy</th>\n",
       "      <th>F1 score</th>\n",
       "      <th>Precision score</th>\n",
       "      <th>Recall score</th>\n",
       "    </tr>\n",
       "  </thead>\n",
       "  <tbody>\n",
       "    <tr>\n",
       "      <th>0</th>\n",
       "      <td>SVM model 1</td>\n",
       "      <td>0.9831</td>\n",
       "      <td>0.983092</td>\n",
       "      <td>0.983098</td>\n",
       "      <td>0.9831</td>\n",
       "    </tr>\n",
       "    <tr>\n",
       "      <th>1</th>\n",
       "      <td>SVM model 2</td>\n",
       "      <td>0.9785</td>\n",
       "      <td>0.978481</td>\n",
       "      <td>0.978501</td>\n",
       "      <td>0.9785</td>\n",
       "    </tr>\n",
       "    <tr>\n",
       "      <th>2</th>\n",
       "      <td>SVM model 3</td>\n",
       "      <td>0.8782</td>\n",
       "      <td>0.878697</td>\n",
       "      <td>0.884757</td>\n",
       "      <td>0.8782</td>\n",
       "    </tr>\n",
       "  </tbody>\n",
       "</table>\n",
       "</div>"
      ],
      "text/plain": [
       "         Model  Accuracy  F1 score  Precision score  Recall score\n",
       "0  SVM model 1    0.9831  0.983092         0.983098        0.9831\n",
       "1  SVM model 2    0.9785  0.978481         0.978501        0.9785\n",
       "2  SVM model 3    0.8782  0.878697         0.884757        0.8782"
      ]
     },
     "execution_count": 146,
     "metadata": {
      "tags": []
     },
     "output_type": "execute_result"
    }
   ],
   "source": [
    "svm_l1 = [\"SVM model 1\", a_svm1, f1_svm1, p_svm1, r_svm1]\n",
    "svm_l2 = [\"SVM model 2\", a_svm2, f1_svm2, p_svm2, r_svm2]\n",
    "svm_l3 = [\"SVM model 3\", a_svm3, f1_svm3, p_svm3, r_svm3]\n",
    "data = [svm_l1, svm_l2, svm_l3]\n",
    "df1 = pd.DataFrame(data, columns = ['Model', 'Accuracy', 'F1 score', 'Precision score', 'Recall score'])\n",
    "df1"
   ]
  },
  {
   "cell_type": "markdown",
   "metadata": {
    "colab_type": "text",
    "id": "pyzHDUN3jMyz"
   },
   "source": [
    "# Multi Layer Perceptron (MLP)"
   ]
  },
  {
   "cell_type": "markdown",
   "metadata": {
    "colab_type": "text",
    "id": "53lbGZ4GyoYE"
   },
   "source": [
    "### First we change our labels to categorical data."
   ]
  },
  {
   "cell_type": "code",
   "execution_count": 0,
   "metadata": {
    "colab": {},
    "colab_type": "code",
    "id": "9DOpFySFGTVu"
   },
   "outputs": [],
   "source": [
    "y_train = keras.utils.to_categorical(y_train, 10)\n",
    "y_test = keras.utils.to_categorical(y_test, 10)"
   ]
  },
  {
   "cell_type": "markdown",
   "metadata": {
    "colab_type": "text",
    "id": "YfRTe178jXwH"
   },
   "source": [
    "## MLP model 1 with 1 hidden layer of 30 nodes using activation function 'sigmoid'\n",
    "### We use the 'sgd' optimizer."
   ]
  },
  {
   "cell_type": "code",
   "execution_count": 100,
   "metadata": {
    "colab": {
     "base_uri": "https://localhost:8080/",
     "height": 1000
    },
    "colab_type": "code",
    "id": "OjSgTaq3hQWO",
    "outputId": "7b9aae88-946e-420a-9f05-8d19adfa64e6"
   },
   "outputs": [
    {
     "name": "stdout",
     "output_type": "stream",
     "text": [
      "Epoch 1/40\n",
      "60000/60000 [==============================] - 3s 42us/sample - loss: 0.9490 - acc: 0.7679\n",
      "Epoch 2/40\n",
      "60000/60000 [==============================] - 2s 41us/sample - loss: 0.5411 - acc: 0.8651\n",
      "Epoch 3/40\n",
      "60000/60000 [==============================] - 2s 41us/sample - loss: 0.4671 - acc: 0.8752\n",
      "Epoch 4/40\n",
      "60000/60000 [==============================] - 2s 41us/sample - loss: 0.4268 - acc: 0.8831\n",
      "Epoch 5/40\n",
      "60000/60000 [==============================] - 2s 41us/sample - loss: 0.3981 - acc: 0.8874\n",
      "Epoch 6/40\n",
      "60000/60000 [==============================] - 2s 41us/sample - loss: 0.3898 - acc: 0.8892\n",
      "Epoch 7/40\n",
      "60000/60000 [==============================] - 2s 41us/sample - loss: 0.3642 - acc: 0.8959\n",
      "Epoch 8/40\n",
      "60000/60000 [==============================] - 2s 41us/sample - loss: 0.3613 - acc: 0.8955\n",
      "Epoch 9/40\n",
      "60000/60000 [==============================] - 2s 41us/sample - loss: 0.3553 - acc: 0.8992\n",
      "Epoch 10/40\n",
      "60000/60000 [==============================] - 2s 40us/sample - loss: 0.3439 - acc: 0.9007\n",
      "Epoch 11/40\n",
      "60000/60000 [==============================] - 3s 42us/sample - loss: 0.3351 - acc: 0.9025\n",
      "Epoch 12/40\n",
      "60000/60000 [==============================] - 3s 43us/sample - loss: 0.3321 - acc: 0.9040\n",
      "Epoch 13/40\n",
      "60000/60000 [==============================] - 3s 43us/sample - loss: 0.3213 - acc: 0.9058\n",
      "Epoch 14/40\n",
      "60000/60000 [==============================] - 3s 43us/sample - loss: 0.3283 - acc: 0.9071\n",
      "Epoch 15/40\n",
      "60000/60000 [==============================] - 3s 43us/sample - loss: 0.3166 - acc: 0.9071\n",
      "Epoch 16/40\n",
      "60000/60000 [==============================] - 2s 40us/sample - loss: 0.3155 - acc: 0.9064\n",
      "Epoch 17/40\n",
      "60000/60000 [==============================] - 3s 42us/sample - loss: 0.3080 - acc: 0.9100\n",
      "Epoch 18/40\n",
      "60000/60000 [==============================] - 3s 43us/sample - loss: 0.3039 - acc: 0.9098\n",
      "Epoch 19/40\n",
      "60000/60000 [==============================] - 3s 42us/sample - loss: 0.3063 - acc: 0.9087\n",
      "Epoch 20/40\n",
      "60000/60000 [==============================] - 2s 41us/sample - loss: 0.3066 - acc: 0.9078\n",
      "Epoch 21/40\n",
      "60000/60000 [==============================] - 2s 41us/sample - loss: 0.2941 - acc: 0.9135\n",
      "Epoch 22/40\n",
      "60000/60000 [==============================] - 2s 41us/sample - loss: 0.2921 - acc: 0.9136\n",
      "Epoch 23/40\n",
      "60000/60000 [==============================] - 3s 42us/sample - loss: 0.3021 - acc: 0.9117\n",
      "Epoch 24/40\n",
      "60000/60000 [==============================] - 3s 43us/sample - loss: 0.2918 - acc: 0.9132\n",
      "Epoch 25/40\n",
      "60000/60000 [==============================] - 3s 44us/sample - loss: 0.2893 - acc: 0.9125\n",
      "Epoch 26/40\n",
      "60000/60000 [==============================] - 3s 44us/sample - loss: 0.2900 - acc: 0.9131\n",
      "Epoch 27/40\n",
      "60000/60000 [==============================] - 3s 43us/sample - loss: 0.2899 - acc: 0.9142\n",
      "Epoch 28/40\n",
      "60000/60000 [==============================] - 3s 42us/sample - loss: 0.2838 - acc: 0.9160\n",
      "Epoch 29/40\n",
      "60000/60000 [==============================] - 3s 43us/sample - loss: 0.2853 - acc: 0.9168\n",
      "Epoch 30/40\n",
      "60000/60000 [==============================] - 3s 42us/sample - loss: 0.2774 - acc: 0.9180\n",
      "Epoch 31/40\n",
      "60000/60000 [==============================] - 3s 43us/sample - loss: 0.2793 - acc: 0.9163\n",
      "Epoch 32/40\n",
      "60000/60000 [==============================] - 3s 42us/sample - loss: 0.2885 - acc: 0.9150\n",
      "Epoch 33/40\n",
      "60000/60000 [==============================] - 3s 44us/sample - loss: 0.2779 - acc: 0.9190\n",
      "Epoch 34/40\n",
      "60000/60000 [==============================] - 3s 43us/sample - loss: 0.2821 - acc: 0.9179\n",
      "Epoch 35/40\n",
      "60000/60000 [==============================] - 3s 43us/sample - loss: 0.2808 - acc: 0.9182\n",
      "Epoch 36/40\n",
      "60000/60000 [==============================] - 3s 42us/sample - loss: 0.2744 - acc: 0.9185\n",
      "Epoch 37/40\n",
      "60000/60000 [==============================] - 3s 42us/sample - loss: 0.2819 - acc: 0.9163\n",
      "Epoch 38/40\n",
      "60000/60000 [==============================] - 3s 43us/sample - loss: 0.2746 - acc: 0.9198\n",
      "Epoch 39/40\n",
      "60000/60000 [==============================] - 3s 43us/sample - loss: 0.2754 - acc: 0.9183\n",
      "Epoch 40/40\n",
      "60000/60000 [==============================] - 3s 43us/sample - loss: 0.2652 - acc: 0.9214\n"
     ]
    },
    {
     "data": {
      "text/plain": [
       "<tensorflow.python.keras.callbacks.History at 0x7f606e923b70>"
      ]
     },
     "execution_count": 100,
     "metadata": {
      "tags": []
     },
     "output_type": "execute_result"
    }
   ],
   "source": [
    "model1 = Sequential()\n",
    "model1.add(Dense(30, activation = \"sigmoid\", input_shape=(784,)))\n",
    "model1.add(Dense(10, activation=\"softmax\"))\n",
    "model1.compile(loss=\"categorical_crossentropy\", optimizer=\"sgd\", metrics=['accuracy'])\n",
    "model1.fit(X_train, y_train, epochs=40)"
   ]
  },
  {
   "cell_type": "markdown",
   "metadata": {
    "colab_type": "text",
    "id": "j1do8Lj834hU"
   },
   "source": [
    "### The accuracy, f1 score, precision score, recall score and confusion matrix obtained by running the model is shown below"
   ]
  },
  {
   "cell_type": "code",
   "execution_count": 104,
   "metadata": {
    "colab": {
     "base_uri": "https://localhost:8080/",
     "height": 52
    },
    "colab_type": "code",
    "id": "9kUI-BYeAfDq",
    "outputId": "e61ba657-c95f-42e8-d4f1-7bd1e1872862"
   },
   "outputs": [
    {
     "name": "stdout",
     "output_type": "stream",
     "text": [
      "10000/10000 [==============================] - 0s 26us/sample - loss: 0.2613 - acc: 0.9248\n",
      "Loss =  0.26132565671801566  Accuracy =  0.9248\n"
     ]
    }
   ],
   "source": [
    "score1 = model1.evaluate(X_test, y_test)\n",
    "print('Loss = ', score1[0], ' Accuracy = ', score1[1])\n",
    "a_nn1 = score1[1]"
   ]
  },
  {
   "cell_type": "code",
   "execution_count": 117,
   "metadata": {
    "colab": {
     "base_uri": "https://localhost:8080/",
     "height": 260
    },
    "colab_type": "code",
    "id": "w8kqFKx-r4KN",
    "outputId": "dced8d68-094b-4286-c715-a349fd3e83ff"
   },
   "outputs": [
    {
     "name": "stdout",
     "output_type": "stream",
     "text": [
      "f1 score:  0.924704902567081\n",
      "Precision score:  0.9249559572143476\n",
      "Recall score:  0.9248\n",
      "Confusion matrix: \n",
      " [[ 953    0    1    3    0    5    9    5    3    1]\n",
      " [   0 1114    3    4    0    2    2    0   10    0]\n",
      " [  13    3  924   18   10    1   19   16   24    4]\n",
      " [   5    1   23  914    0   20    3   12   23    9]\n",
      " [   3    1    2    0  902    1    7    8    6   52]\n",
      " [   8    1    3   43    7  784   12    8   18    8]\n",
      " [  16    3    6    1    9   11  898    3   11    0]\n",
      " [   3   12   19    8    6    2    0  948    9   21]\n",
      " [   3   11    3   16    5   15   10   11  890   10]\n",
      " [   5    7    2    7   24    6    1   21   15  921]]\n"
     ]
    }
   ],
   "source": [
    "y_pred1 = model1.predict(X_test)\n",
    "pred1 = []\n",
    "for i in range(len(y_pred1)):\n",
    "    pred1.append(np.argmax(y_pred1[i]))\n",
    "\n",
    "f1_nn1 = f1_score(y_test, pred1, average='weighted')\n",
    "p_nn1 = precision_score(y_test, pred1, average='weighted')\n",
    "r_nn1 = recall_score(y_test, pred1, average='weighted')\n",
    "print(\"f1 score: \",f1_nn1)\n",
    "print(\"Precision score: \",p_nn1)\n",
    "print(\"Recall score: \",r_nn1)\n",
    "print(\"Confusion matrix: \\n\", confusion_matrix(y_test, pred1))"
   ]
  },
  {
   "cell_type": "markdown",
   "metadata": {
    "colab_type": "text",
    "id": "MEUPzoRBzAWN"
   },
   "source": [
    "## MLP model 2 with 1 hidden layer of 100 nodes using activation function 'sigmoid'\n",
    "### We use the 'sgd' optimizer.\n",
    "### Thus in this model we test by increasing the number of nodes in the hidden layer."
   ]
  },
  {
   "cell_type": "code",
   "execution_count": 105,
   "metadata": {
    "colab": {
     "base_uri": "https://localhost:8080/",
     "height": 1000
    },
    "colab_type": "code",
    "id": "4MtVahGW-UAB",
    "outputId": "20886570-b7c9-4a71-a1f8-55887df66920"
   },
   "outputs": [
    {
     "name": "stdout",
     "output_type": "stream",
     "text": [
      "Epoch 1/40\n",
      "60000/60000 [==============================] - 4s 63us/sample - loss: 0.6909 - acc: 0.8233\n",
      "Epoch 2/40\n",
      "60000/60000 [==============================] - 4s 61us/sample - loss: 0.3925 - acc: 0.8944\n",
      "Epoch 3/40\n",
      "60000/60000 [==============================] - 4s 59us/sample - loss: 0.3351 - acc: 0.9075\n",
      "Epoch 4/40\n",
      "60000/60000 [==============================] - 4s 60us/sample - loss: 0.3113 - acc: 0.9123\n",
      "Epoch 5/40\n",
      "60000/60000 [==============================] - 4s 61us/sample - loss: 0.2859 - acc: 0.9189\n",
      "Epoch 6/40\n",
      "60000/60000 [==============================] - 4s 64us/sample - loss: 0.2759 - acc: 0.9218\n",
      "Epoch 7/40\n",
      "60000/60000 [==============================] - 4s 62us/sample - loss: 0.2608 - acc: 0.9258\n",
      "Epoch 8/40\n",
      "60000/60000 [==============================] - 4s 60us/sample - loss: 0.2497 - acc: 0.9294\n",
      "Epoch 9/40\n",
      "60000/60000 [==============================] - 4s 61us/sample - loss: 0.2409 - acc: 0.9319\n",
      "Epoch 10/40\n",
      "60000/60000 [==============================] - 4s 61us/sample - loss: 0.2384 - acc: 0.9320\n",
      "Epoch 11/40\n",
      "60000/60000 [==============================] - 4s 62us/sample - loss: 0.2414 - acc: 0.9320\n",
      "Epoch 12/40\n",
      "60000/60000 [==============================] - 4s 63us/sample - loss: 0.2295 - acc: 0.9341\n",
      "Epoch 13/40\n",
      "60000/60000 [==============================] - 4s 61us/sample - loss: 0.2281 - acc: 0.9341\n",
      "Epoch 14/40\n",
      "60000/60000 [==============================] - 4s 61us/sample - loss: 0.2155 - acc: 0.9379\n",
      "Epoch 15/40\n",
      "60000/60000 [==============================] - 4s 63us/sample - loss: 0.2159 - acc: 0.9382\n",
      "Epoch 16/40\n",
      "60000/60000 [==============================] - 4s 62us/sample - loss: 0.2137 - acc: 0.9379\n",
      "Epoch 17/40\n",
      "60000/60000 [==============================] - 4s 62us/sample - loss: 0.2111 - acc: 0.9404\n",
      "Epoch 18/40\n",
      "60000/60000 [==============================] - 4s 61us/sample - loss: 0.2040 - acc: 0.9410\n",
      "Epoch 19/40\n",
      "60000/60000 [==============================] - 4s 61us/sample - loss: 0.2004 - acc: 0.9422\n",
      "Epoch 20/40\n",
      "60000/60000 [==============================] - 4s 60us/sample - loss: 0.1940 - acc: 0.9426\n",
      "Epoch 21/40\n",
      "60000/60000 [==============================] - 4s 61us/sample - loss: 0.1933 - acc: 0.9446\n",
      "Epoch 22/40\n",
      "60000/60000 [==============================] - 4s 65us/sample - loss: 0.1968 - acc: 0.9432\n",
      "Epoch 23/40\n",
      "60000/60000 [==============================] - 4s 67us/sample - loss: 0.1873 - acc: 0.9455\n",
      "Epoch 24/40\n",
      "60000/60000 [==============================] - 4s 67us/sample - loss: 0.1841 - acc: 0.9468\n",
      "Epoch 25/40\n",
      "60000/60000 [==============================] - 4s 62us/sample - loss: 0.1839 - acc: 0.9465\n",
      "Epoch 26/40\n",
      "60000/60000 [==============================] - 4s 61us/sample - loss: 0.1881 - acc: 0.9453\n",
      "Epoch 27/40\n",
      "60000/60000 [==============================] - 4s 63us/sample - loss: 0.1819 - acc: 0.9460\n",
      "Epoch 28/40\n",
      "60000/60000 [==============================] - 4s 62us/sample - loss: 0.1777 - acc: 0.9475\n",
      "Epoch 29/40\n",
      "60000/60000 [==============================] - 4s 62us/sample - loss: 0.1756 - acc: 0.9485\n",
      "Epoch 30/40\n",
      "60000/60000 [==============================] - 4s 61us/sample - loss: 0.1705 - acc: 0.9500\n",
      "Epoch 31/40\n",
      "60000/60000 [==============================] - 4s 59us/sample - loss: 0.1684 - acc: 0.9498\n",
      "Epoch 32/40\n",
      "60000/60000 [==============================] - 4s 60us/sample - loss: 0.1676 - acc: 0.9506\n",
      "Epoch 33/40\n",
      "60000/60000 [==============================] - 4s 62us/sample - loss: 0.1676 - acc: 0.9508\n",
      "Epoch 34/40\n",
      "60000/60000 [==============================] - 4s 61us/sample - loss: 0.1656 - acc: 0.9507\n",
      "Epoch 35/40\n",
      "60000/60000 [==============================] - 4s 61us/sample - loss: 0.1637 - acc: 0.9513\n",
      "Epoch 36/40\n",
      "60000/60000 [==============================] - 4s 61us/sample - loss: 0.1615 - acc: 0.9517\n",
      "Epoch 37/40\n",
      "60000/60000 [==============================] - 4s 63us/sample - loss: 0.1554 - acc: 0.9531\n",
      "Epoch 38/40\n",
      "60000/60000 [==============================] - 4s 62us/sample - loss: 0.1608 - acc: 0.9512\n",
      "Epoch 39/40\n",
      "60000/60000 [==============================] - 4s 61us/sample - loss: 0.1593 - acc: 0.9523\n",
      "Epoch 40/40\n",
      "60000/60000 [==============================] - 4s 61us/sample - loss: 0.1614 - acc: 0.9512\n"
     ]
    },
    {
     "data": {
      "text/plain": [
       "<tensorflow.python.keras.callbacks.History at 0x7f60652cedd8>"
      ]
     },
     "execution_count": 105,
     "metadata": {
      "tags": []
     },
     "output_type": "execute_result"
    }
   ],
   "source": [
    "model2 = Sequential()\n",
    "model2.add(Dense(100, activation = \"sigmoid\", input_shape=(784,)))\n",
    "model2.add(Dense(10, activation=\"softmax\"))\n",
    "model2.compile(loss=\"categorical_crossentropy\", optimizer=\"sgd\", metrics=['accuracy'])\n",
    "model2.fit(X_train, y_train, epochs=40)"
   ]
  },
  {
   "cell_type": "markdown",
   "metadata": {
    "colab_type": "text",
    "id": "j1do8Lj834hU"
   },
   "source": [
    "### The accuracy, f1 score, precision score, recall score and confusion matrix obtained by running the model is shown below"
   ]
  },
  {
   "cell_type": "code",
   "execution_count": 106,
   "metadata": {
    "colab": {
     "base_uri": "https://localhost:8080/",
     "height": 52
    },
    "colab_type": "code",
    "id": "oVCK4df0CLdg",
    "outputId": "82d485b9-949d-43b7-f026-2a9817dc3846"
   },
   "outputs": [
    {
     "name": "stdout",
     "output_type": "stream",
     "text": [
      "10000/10000 [==============================] - 0s 40us/sample - loss: 0.1761 - acc: 0.9472\n",
      "Loss =  0.1761124474093318  Accuracy =  0.9472\n"
     ]
    }
   ],
   "source": [
    "score2 = model2.evaluate(X_test, y_test)\n",
    "print('Loss = ', score2[0], ' Accuracy = ', score2[1])\n",
    "a_nn2 = score2[1]"
   ]
  },
  {
   "cell_type": "code",
   "execution_count": 118,
   "metadata": {
    "colab": {
     "base_uri": "https://localhost:8080/",
     "height": 260
    },
    "colab_type": "code",
    "id": "fcBrGjWttHuG",
    "outputId": "cd991eea-671a-468e-c3e2-bf88ed39a7b6"
   },
   "outputs": [
    {
     "name": "stdout",
     "output_type": "stream",
     "text": [
      "f1 score:  0.9471341905677948\n",
      "Precision score:  0.9472052295536872\n",
      "Recall score:  0.9472\n",
      "Confusion matrix: \n",
      " [[ 965    0    0    1    0    4    6    2    2    0]\n",
      " [   0 1115    2    3    1    1    4    2    7    0]\n",
      " [   6    1  965   12    8    6    9   11   10    4]\n",
      " [   2    2   12  935    1   31    0   11   12    4]\n",
      " [   1    0    3    1  926    1   12    1    3   34]\n",
      " [   4    1    4   26    1  825   14    4    7    6]\n",
      " [  10    2    1    2    5    8  926    0    4    0]\n",
      " [   1    7   21    4    1    0    0  976    2   16]\n",
      " [   7    5    5   14    8   14   14   10  892    5]\n",
      " [   6    5    1    6   15    5    1   17    6  947]]\n"
     ]
    }
   ],
   "source": [
    "y_pred2 = model2.predict(X_test)\n",
    "pred2 = []\n",
    "for i in range(len(y_pred2)):\n",
    "    pred2.append(np.argmax(y_pred2[i]))\n",
    "\n",
    "f1_nn2 = f1_score(y_test, pred2, average='weighted')\n",
    "p_nn2 = precision_score(y_test, pred2, average='weighted')\n",
    "r_nn2 = recall_score(y_test, pred2, average='weighted')\n",
    "print(\"f1 score: \",f1_nn2)\n",
    "print(\"Precision score: \",p_nn2)\n",
    "print(\"Recall score: \",r_nn2)\n",
    "print(\"Confusion matrix: \\n\", confusion_matrix(y_test, pred2))"
   ]
  },
  {
   "cell_type": "markdown",
   "metadata": {
    "colab_type": "text",
    "id": "jrPize63zU2j"
   },
   "source": [
    "## MLP model 3 with 1 hidden layer of 100 nodes using activation function 'relu'\n",
    "### We use the 'adam' optimizer.\n",
    "### In this model, we test by changing our activation function as well as the optimizer.\n"
   ]
  },
  {
   "cell_type": "code",
   "execution_count": 107,
   "metadata": {
    "colab": {
     "base_uri": "https://localhost:8080/",
     "height": 1000
    },
    "colab_type": "code",
    "id": "6MlntaZdl1y_",
    "outputId": "840e717a-1a2b-4f50-f032-991143d545ab"
   },
   "outputs": [
    {
     "name": "stdout",
     "output_type": "stream",
     "text": [
      "Epoch 1/40\n",
      "60000/60000 [==============================] - 4s 67us/sample - loss: 2.4593 - acc: 0.8508\n",
      "Epoch 2/40\n",
      "60000/60000 [==============================] - 4s 66us/sample - loss: 0.3895 - acc: 0.9066\n",
      "Epoch 3/40\n",
      "60000/60000 [==============================] - 4s 66us/sample - loss: 0.3033 - acc: 0.9226\n",
      "Epoch 4/40\n",
      "60000/60000 [==============================] - 4s 65us/sample - loss: 0.2546 - acc: 0.9340\n",
      "Epoch 5/40\n",
      "60000/60000 [==============================] - 4s 65us/sample - loss: 0.2383 - acc: 0.9392\n",
      "Epoch 6/40\n",
      "60000/60000 [==============================] - 4s 66us/sample - loss: 0.2172 - acc: 0.9447\n",
      "Epoch 7/40\n",
      "60000/60000 [==============================] - 4s 66us/sample - loss: 0.2120 - acc: 0.9465\n",
      "Epoch 8/40\n",
      "60000/60000 [==============================] - 4s 66us/sample - loss: 0.1984 - acc: 0.9501\n",
      "Epoch 9/40\n",
      "60000/60000 [==============================] - 4s 65us/sample - loss: 0.1943 - acc: 0.9512\n",
      "Epoch 10/40\n",
      "60000/60000 [==============================] - 4s 65us/sample - loss: 0.1844 - acc: 0.9533\n",
      "Epoch 11/40\n",
      "60000/60000 [==============================] - 4s 67us/sample - loss: 0.1799 - acc: 0.9559\n",
      "Epoch 12/40\n",
      "60000/60000 [==============================] - 4s 66us/sample - loss: 0.1787 - acc: 0.9559\n",
      "Epoch 13/40\n",
      "60000/60000 [==============================] - 4s 65us/sample - loss: 0.1731 - acc: 0.9574\n",
      "Epoch 14/40\n",
      "60000/60000 [==============================] - 4s 65us/sample - loss: 0.1706 - acc: 0.9577\n",
      "Epoch 15/40\n",
      "60000/60000 [==============================] - 4s 65us/sample - loss: 0.1758 - acc: 0.9574\n",
      "Epoch 16/40\n",
      "60000/60000 [==============================] - 4s 65us/sample - loss: 0.1760 - acc: 0.9581\n",
      "Epoch 17/40\n",
      "60000/60000 [==============================] - 4s 65us/sample - loss: 0.1644 - acc: 0.9607\n",
      "Epoch 18/40\n",
      "60000/60000 [==============================] - 4s 66us/sample - loss: 0.1575 - acc: 0.9607\n",
      "Epoch 19/40\n",
      "60000/60000 [==============================] - 4s 64us/sample - loss: 0.1599 - acc: 0.9602\n",
      "Epoch 20/40\n",
      "60000/60000 [==============================] - 4s 65us/sample - loss: 0.1589 - acc: 0.9613\n",
      "Epoch 21/40\n",
      "60000/60000 [==============================] - 4s 66us/sample - loss: 0.1589 - acc: 0.9615\n",
      "Epoch 22/40\n",
      "60000/60000 [==============================] - 4s 65us/sample - loss: 0.1598 - acc: 0.9626\n",
      "Epoch 23/40\n",
      "60000/60000 [==============================] - 4s 65us/sample - loss: 0.1541 - acc: 0.9627\n",
      "Epoch 24/40\n",
      "60000/60000 [==============================] - 4s 66us/sample - loss: 0.1528 - acc: 0.9631\n",
      "Epoch 25/40\n",
      "60000/60000 [==============================] - 4s 65us/sample - loss: 0.1484 - acc: 0.9631\n",
      "Epoch 26/40\n",
      "60000/60000 [==============================] - 4s 66us/sample - loss: 0.1530 - acc: 0.9633\n",
      "Epoch 27/40\n",
      "60000/60000 [==============================] - 4s 65us/sample - loss: 0.1492 - acc: 0.9638\n",
      "Epoch 28/40\n",
      "60000/60000 [==============================] - 4s 65us/sample - loss: 0.1470 - acc: 0.9646\n",
      "Epoch 29/40\n",
      "60000/60000 [==============================] - 4s 65us/sample - loss: 0.1517 - acc: 0.9638\n",
      "Epoch 30/40\n",
      "60000/60000 [==============================] - 4s 66us/sample - loss: 0.1451 - acc: 0.9652\n",
      "Epoch 31/40\n",
      "60000/60000 [==============================] - 4s 66us/sample - loss: 0.1442 - acc: 0.9659\n",
      "Epoch 32/40\n",
      "60000/60000 [==============================] - 4s 68us/sample - loss: 0.1456 - acc: 0.9657\n",
      "Epoch 33/40\n",
      "60000/60000 [==============================] - 4s 64us/sample - loss: 0.1419 - acc: 0.9666\n",
      "Epoch 34/40\n",
      "60000/60000 [==============================] - 4s 63us/sample - loss: 0.1361 - acc: 0.9661\n",
      "Epoch 35/40\n",
      "60000/60000 [==============================] - 4s 64us/sample - loss: 0.1409 - acc: 0.9662\n",
      "Epoch 36/40\n",
      "60000/60000 [==============================] - 4s 64us/sample - loss: 0.1445 - acc: 0.9666\n",
      "Epoch 37/40\n",
      "60000/60000 [==============================] - 4s 64us/sample - loss: 0.1375 - acc: 0.9673\n",
      "Epoch 38/40\n",
      "60000/60000 [==============================] - 4s 66us/sample - loss: 0.1317 - acc: 0.9679\n",
      "Epoch 39/40\n",
      "60000/60000 [==============================] - 4s 66us/sample - loss: 0.1411 - acc: 0.9674\n",
      "Epoch 40/40\n",
      "60000/60000 [==============================] - 4s 64us/sample - loss: 0.1345 - acc: 0.9683\n"
     ]
    },
    {
     "data": {
      "text/plain": [
       "<tensorflow.python.keras.callbacks.History at 0x7f606512c780>"
      ]
     },
     "execution_count": 107,
     "metadata": {
      "tags": []
     },
     "output_type": "execute_result"
    }
   ],
   "source": [
    "model3 = Sequential()\n",
    "model3.add(Dense(100, activation = \"relu\", input_shape=(784,)))\n",
    "model3.add(Dense(10, activation=\"softmax\"))\n",
    "model3.compile(loss=\"categorical_crossentropy\", optimizer=\"adam\", metrics=['accuracy'])\n",
    "model3.fit(X_train, y_train, epochs=40)"
   ]
  },
  {
   "cell_type": "markdown",
   "metadata": {
    "colab_type": "text",
    "id": "j1do8Lj834hU"
   },
   "source": [
    "### The accuracy, f1 score, precision score, recall score and confusion matrix obtained by running the model is shown below"
   ]
  },
  {
   "cell_type": "code",
   "execution_count": 108,
   "metadata": {
    "colab": {
     "base_uri": "https://localhost:8080/",
     "height": 52
    },
    "colab_type": "code",
    "id": "sTYzXPmFPi95",
    "outputId": "e496f101-e058-45e9-8a35-6f07e638e65e"
   },
   "outputs": [
    {
     "name": "stdout",
     "output_type": "stream",
     "text": [
      "10000/10000 [==============================] - 0s 40us/sample - loss: 0.4870 - acc: 0.9459\n",
      "Loss =  0.4869805608151073  Accuracy =  0.9459\n"
     ]
    }
   ],
   "source": [
    "score3 = model3.evaluate(X_test, y_test)\n",
    "print('Loss = ', score3[0], ' Accuracy = ', score3[1])\n",
    "a_nn3 = score3[1]"
   ]
  },
  {
   "cell_type": "code",
   "execution_count": 119,
   "metadata": {
    "colab": {
     "base_uri": "https://localhost:8080/",
     "height": 260
    },
    "colab_type": "code",
    "id": "vwi6w8_0tV45",
    "outputId": "64d7f7d2-175d-47ef-95bc-2f2ead84ac43"
   },
   "outputs": [
    {
     "name": "stdout",
     "output_type": "stream",
     "text": [
      "f1 score:  0.946497887611948\n",
      "Precision score:  0.948777620415543\n",
      "Recall score:  0.9459\n",
      "Confusion matrix: \n",
      " [[ 958    0    2    1    0    2    2    1   14    0]\n",
      " [   0 1106    3    2    0    2    1    0   21    0]\n",
      " [   5    3  971    5    1    1    3    8   34    1]\n",
      " [   1    1   10  952    0   14    0    4   25    3]\n",
      " [   2    1    3    0  902    0    3    5   26   40]\n",
      " [   3    0    1   28    2  809    7    1   38    3]\n",
      " [   7    4    3    0    4   10  904    0   26    0]\n",
      " [   0    6   13   12    5    2    0  974    6   10]\n",
      " [   3    0    3    8    2    6    3    0  944    5]\n",
      " [   3    3    0   12   15    7    0    4   26  939]]\n"
     ]
    }
   ],
   "source": [
    "y_pred3 = model3.predict(X_test)\n",
    "pred3 = []\n",
    "for i in range(len(y_pred3)):\n",
    "    pred3.append(np.argmax(y_pred3[i]))\n",
    "\n",
    "f1_nn3 = f1_score(y_test, pred3, average='weighted')\n",
    "p_nn3 = precision_score(y_test, pred3, average='weighted')\n",
    "r_nn3 = recall_score(y_test, pred3, average='weighted')\n",
    "print(\"f1 score: \",f1_nn3)\n",
    "print(\"Precision score: \",p_nn3)\n",
    "print(\"Recall score: \",r_nn3)\n",
    "print(\"Confusion matrix: \\n\", confusion_matrix(y_test, pred3))"
   ]
  },
  {
   "cell_type": "markdown",
   "metadata": {
    "colab_type": "text",
    "id": "XiWSgJMwzk53"
   },
   "source": [
    "## MLP model 4 with 1 hidden layer of 100 nodes using activation function 'sigmoid'\n",
    "### We use the 'adam' optimizer."
   ]
  },
  {
   "cell_type": "code",
   "execution_count": 109,
   "metadata": {
    "colab": {
     "base_uri": "https://localhost:8080/",
     "height": 1000
    },
    "colab_type": "code",
    "id": "PaazOMX1iWhv",
    "outputId": "e5b605f5-f822-4359-b3eb-caef6de7659e"
   },
   "outputs": [
    {
     "name": "stdout",
     "output_type": "stream",
     "text": [
      "Epoch 1/40\n",
      "60000/60000 [==============================] - 4s 67us/sample - loss: 0.5491 - acc: 0.8504\n",
      "Epoch 2/40\n",
      "60000/60000 [==============================] - 4s 65us/sample - loss: 0.3590 - acc: 0.8960\n",
      "Epoch 3/40\n",
      "60000/60000 [==============================] - 4s 65us/sample - loss: 0.3279 - acc: 0.9050\n",
      "Epoch 4/40\n",
      "60000/60000 [==============================] - 4s 67us/sample - loss: 0.2997 - acc: 0.9109\n",
      "Epoch 5/40\n",
      "60000/60000 [==============================] - 4s 63us/sample - loss: 0.2808 - acc: 0.9144\n",
      "Epoch 6/40\n",
      "60000/60000 [==============================] - 4s 65us/sample - loss: 0.2813 - acc: 0.9136\n",
      "Epoch 7/40\n",
      "60000/60000 [==============================] - 4s 66us/sample - loss: 0.2656 - acc: 0.9202\n",
      "Epoch 8/40\n",
      "60000/60000 [==============================] - 4s 66us/sample - loss: 0.2585 - acc: 0.9215\n",
      "Epoch 9/40\n",
      "60000/60000 [==============================] - 4s 65us/sample - loss: 0.2562 - acc: 0.9216\n",
      "Epoch 10/40\n",
      "60000/60000 [==============================] - 4s 68us/sample - loss: 0.2536 - acc: 0.9220\n",
      "Epoch 11/40\n",
      "60000/60000 [==============================] - 4s 69us/sample - loss: 0.2439 - acc: 0.9262\n",
      "Epoch 12/40\n",
      "60000/60000 [==============================] - 4s 66us/sample - loss: 0.2389 - acc: 0.9261\n",
      "Epoch 13/40\n",
      "60000/60000 [==============================] - 4s 65us/sample - loss: 0.2399 - acc: 0.9263\n",
      "Epoch 14/40\n",
      "60000/60000 [==============================] - 4s 64us/sample - loss: 0.2264 - acc: 0.9305\n",
      "Epoch 15/40\n",
      "60000/60000 [==============================] - 4s 65us/sample - loss: 0.2210 - acc: 0.9322\n",
      "Epoch 16/40\n",
      "60000/60000 [==============================] - 4s 64us/sample - loss: 0.2141 - acc: 0.9348\n",
      "Epoch 17/40\n",
      "60000/60000 [==============================] - 4s 65us/sample - loss: 0.2149 - acc: 0.9348\n",
      "Epoch 18/40\n",
      "60000/60000 [==============================] - 4s 65us/sample - loss: 0.2034 - acc: 0.9384\n",
      "Epoch 19/40\n",
      "60000/60000 [==============================] - 4s 64us/sample - loss: 0.2036 - acc: 0.9374\n",
      "Epoch 20/40\n",
      "60000/60000 [==============================] - 4s 63us/sample - loss: 0.2029 - acc: 0.9369\n",
      "Epoch 21/40\n",
      "60000/60000 [==============================] - 4s 65us/sample - loss: 0.2079 - acc: 0.9355\n",
      "Epoch 22/40\n",
      "60000/60000 [==============================] - 4s 64us/sample - loss: 0.2167 - acc: 0.9339\n",
      "Epoch 23/40\n",
      "60000/60000 [==============================] - 4s 64us/sample - loss: 0.2132 - acc: 0.9355\n",
      "Epoch 24/40\n",
      "60000/60000 [==============================] - 4s 64us/sample - loss: 0.1965 - acc: 0.9401\n",
      "Epoch 25/40\n",
      "60000/60000 [==============================] - 4s 64us/sample - loss: 0.2028 - acc: 0.9376\n",
      "Epoch 26/40\n",
      "60000/60000 [==============================] - 4s 65us/sample - loss: 0.1964 - acc: 0.9403\n",
      "Epoch 27/40\n",
      "60000/60000 [==============================] - 4s 65us/sample - loss: 0.1888 - acc: 0.9423\n",
      "Epoch 28/40\n",
      "60000/60000 [==============================] - 4s 65us/sample - loss: 0.2001 - acc: 0.9388\n",
      "Epoch 29/40\n",
      "60000/60000 [==============================] - 4s 64us/sample - loss: 0.1874 - acc: 0.9431\n",
      "Epoch 30/40\n",
      "60000/60000 [==============================] - 4s 64us/sample - loss: 0.1955 - acc: 0.9411\n",
      "Epoch 31/40\n",
      "60000/60000 [==============================] - 4s 65us/sample - loss: 0.1798 - acc: 0.9450\n",
      "Epoch 32/40\n",
      "60000/60000 [==============================] - 4s 65us/sample - loss: 0.1824 - acc: 0.9448\n",
      "Epoch 33/40\n",
      "60000/60000 [==============================] - 4s 64us/sample - loss: 0.1759 - acc: 0.9469\n",
      "Epoch 34/40\n",
      "60000/60000 [==============================] - 4s 66us/sample - loss: 0.1768 - acc: 0.9463\n",
      "Epoch 35/40\n",
      "60000/60000 [==============================] - 4s 64us/sample - loss: 0.1775 - acc: 0.9449\n",
      "Epoch 36/40\n",
      "60000/60000 [==============================] - 4s 65us/sample - loss: 0.1827 - acc: 0.9433\n",
      "Epoch 37/40\n",
      "60000/60000 [==============================] - 4s 64us/sample - loss: 0.1791 - acc: 0.9445\n",
      "Epoch 38/40\n",
      "60000/60000 [==============================] - 4s 64us/sample - loss: 0.1680 - acc: 0.9485\n",
      "Epoch 39/40\n",
      "60000/60000 [==============================] - 4s 64us/sample - loss: 0.1714 - acc: 0.9476\n",
      "Epoch 40/40\n",
      "60000/60000 [==============================] - 4s 64us/sample - loss: 0.1705 - acc: 0.9481\n"
     ]
    },
    {
     "data": {
      "text/plain": [
       "<tensorflow.python.keras.callbacks.History at 0x7f6064e21160>"
      ]
     },
     "execution_count": 109,
     "metadata": {
      "tags": []
     },
     "output_type": "execute_result"
    }
   ],
   "source": [
    "model4 = Sequential()\n",
    "model4.add(Dense(100, input_dim=784, activation='sigmoid'))\n",
    "model4.add(Dense(10, activation = \"softmax\"))\n",
    "model4.compile(loss='categorical_crossentropy', optimizer='adam', metrics=['accuracy'])\n",
    "model4.fit(X_train, y_train, epochs=40)"
   ]
  },
  {
   "cell_type": "markdown",
   "metadata": {
    "colab_type": "text",
    "id": "j1do8Lj834hU"
   },
   "source": [
    "### The accuracy, f1 score, precision score, recall score and confusion matrix obtained by running the model is shown below"
   ]
  },
  {
   "cell_type": "code",
   "execution_count": 110,
   "metadata": {
    "colab": {
     "base_uri": "https://localhost:8080/",
     "height": 52
    },
    "colab_type": "code",
    "id": "wkV4XLVOFirP",
    "outputId": "f61391f2-5763-4347-86fb-2594349f4c4d"
   },
   "outputs": [
    {
     "name": "stdout",
     "output_type": "stream",
     "text": [
      "10000/10000 [==============================] - 0s 44us/sample - loss: 0.1691 - acc: 0.9482\n",
      "Loss =  0.16905173732340337  Accuracy =  0.9482\n"
     ]
    }
   ],
   "source": [
    "score4 = model4.evaluate(X_test, y_test)\n",
    "print('Loss = ', score4[0], ' Accuracy = ', score4[1])\n",
    "a_nn4 = score4[1]"
   ]
  },
  {
   "cell_type": "code",
   "execution_count": 120,
   "metadata": {
    "colab": {
     "base_uri": "https://localhost:8080/",
     "height": 260
    },
    "colab_type": "code",
    "id": "UFey2rfbtk0o",
    "outputId": "47216e2b-8e74-4b29-84a5-d09279cb18af"
   },
   "outputs": [
    {
     "name": "stdout",
     "output_type": "stream",
     "text": [
      "f1 score:  0.9481685590783149\n",
      "Precision score:  0.9482358568300188\n",
      "Recall score:  0.9482\n",
      "Confusion matrix: \n",
      " [[ 962    0    1    2    0    3    7    2    3    0]\n",
      " [   0 1110    3    4    0    2    3    2   11    0]\n",
      " [   8    1  979    6    5    3    4   11   13    2]\n",
      " [   1    0   13  950    0   16    0   13   14    3]\n",
      " [   1    2    6    0  923    1   10    3    3   33]\n",
      " [  10    0    1   23    2  824   10    1   19    2]\n",
      " [   7    4    5    0    5    7  922    0    8    0]\n",
      " [   0    4   27    5    1    0    0  974    2   15]\n",
      " [  11    3    4    8    4   10    8    6  908   12]\n",
      " [   8    6    4   12   28    5    1    8    7  930]]\n"
     ]
    }
   ],
   "source": [
    "y_pred4 = model4.predict(X_test)\n",
    "pred4 = []\n",
    "for i in range(len(y_pred4)):\n",
    "    pred4.append(np.argmax(y_pred4[i]))\n",
    "\n",
    "f1_nn4 = f1_score(y_test, pred4, average='weighted')\n",
    "p_nn4 = precision_score(y_test, pred4, average='weighted')\n",
    "r_nn4 = recall_score(y_test, pred4, average='weighted')\n",
    "print(\"f1 score: \",f1_nn4)\n",
    "print(\"Precision score: \",p_nn4)\n",
    "print(\"Recall score: \",r_nn4)\n",
    "print(\"Confusion matrix: \\n\", confusion_matrix(y_test, pred4))"
   ]
  },
  {
   "cell_type": "markdown",
   "metadata": {
    "colab_type": "text",
    "id": "3vAk8pmPzrKJ"
   },
   "source": [
    "## MLP model 5 with 2 hidden layers of 100 nodes each using activation function 'sigmoid'\n",
    "### We use the 'adam' optimizer.\n",
    "### In this model we increase the number of hidden layers."
   ]
  },
  {
   "cell_type": "code",
   "execution_count": 111,
   "metadata": {
    "colab": {
     "base_uri": "https://localhost:8080/",
     "height": 1000
    },
    "colab_type": "code",
    "id": "abuDIwQrL4K6",
    "outputId": "08e610d6-9757-48b6-fd09-d91533484dc7"
   },
   "outputs": [
    {
     "name": "stdout",
     "output_type": "stream",
     "text": [
      "Epoch 1/40\n",
      "60000/60000 [==============================] - 5s 76us/sample - loss: 0.5871 - acc: 0.8440\n",
      "Epoch 2/40\n",
      "60000/60000 [==============================] - 4s 71us/sample - loss: 0.3646 - acc: 0.8894\n",
      "Epoch 3/40\n",
      "60000/60000 [==============================] - 4s 74us/sample - loss: 0.3282 - acc: 0.8985\n",
      "Epoch 4/40\n",
      "60000/60000 [==============================] - 4s 72us/sample - loss: 0.2948 - acc: 0.9102\n",
      "Epoch 5/40\n",
      "60000/60000 [==============================] - 4s 72us/sample - loss: 0.2836 - acc: 0.9128\n",
      "Epoch 6/40\n",
      "60000/60000 [==============================] - 4s 72us/sample - loss: 0.2623 - acc: 0.9186\n",
      "Epoch 7/40\n",
      "60000/60000 [==============================] - 4s 72us/sample - loss: 0.2489 - acc: 0.9233\n",
      "Epoch 8/40\n",
      "60000/60000 [==============================] - 4s 72us/sample - loss: 0.2318 - acc: 0.9286\n",
      "Epoch 9/40\n",
      "60000/60000 [==============================] - 4s 71us/sample - loss: 0.2259 - acc: 0.9297\n",
      "Epoch 10/40\n",
      "60000/60000 [==============================] - 4s 72us/sample - loss: 0.2213 - acc: 0.9315\n",
      "Epoch 11/40\n",
      "60000/60000 [==============================] - 4s 72us/sample - loss: 0.2140 - acc: 0.9326\n",
      "Epoch 12/40\n",
      "60000/60000 [==============================] - 4s 72us/sample - loss: 0.2102 - acc: 0.9350\n",
      "Epoch 13/40\n",
      "60000/60000 [==============================] - 4s 72us/sample - loss: 0.1969 - acc: 0.9379\n",
      "Epoch 14/40\n",
      "60000/60000 [==============================] - 4s 72us/sample - loss: 0.2049 - acc: 0.9353\n",
      "Epoch 15/40\n",
      "60000/60000 [==============================] - 4s 71us/sample - loss: 0.1888 - acc: 0.9407\n",
      "Epoch 16/40\n",
      "60000/60000 [==============================] - 4s 71us/sample - loss: 0.1842 - acc: 0.9414\n",
      "Epoch 17/40\n",
      "60000/60000 [==============================] - 4s 72us/sample - loss: 0.1940 - acc: 0.9399\n",
      "Epoch 18/40\n",
      "60000/60000 [==============================] - 4s 72us/sample - loss: 0.1927 - acc: 0.9399\n",
      "Epoch 19/40\n",
      "60000/60000 [==============================] - 4s 72us/sample - loss: 0.1814 - acc: 0.9433\n",
      "Epoch 20/40\n",
      "60000/60000 [==============================] - 4s 72us/sample - loss: 0.1659 - acc: 0.9473\n",
      "Epoch 21/40\n",
      "60000/60000 [==============================] - 4s 73us/sample - loss: 0.1700 - acc: 0.9468\n",
      "Epoch 22/40\n",
      "60000/60000 [==============================] - 4s 72us/sample - loss: 0.1733 - acc: 0.9453\n",
      "Epoch 23/40\n",
      "60000/60000 [==============================] - 4s 72us/sample - loss: 0.1670 - acc: 0.9469\n",
      "Epoch 24/40\n",
      "60000/60000 [==============================] - 4s 72us/sample - loss: 0.1632 - acc: 0.9490\n",
      "Epoch 25/40\n",
      "60000/60000 [==============================] - 4s 74us/sample - loss: 0.1541 - acc: 0.9513\n",
      "Epoch 26/40\n",
      "60000/60000 [==============================] - 4s 73us/sample - loss: 0.1559 - acc: 0.9515\n",
      "Epoch 27/40\n",
      "60000/60000 [==============================] - 4s 75us/sample - loss: 0.1522 - acc: 0.9523\n",
      "Epoch 28/40\n",
      "60000/60000 [==============================] - 4s 73us/sample - loss: 0.1526 - acc: 0.9513\n",
      "Epoch 29/40\n",
      "60000/60000 [==============================] - 5s 75us/sample - loss: 0.1439 - acc: 0.9539\n",
      "Epoch 30/40\n",
      "60000/60000 [==============================] - 4s 72us/sample - loss: 0.1365 - acc: 0.9569\n",
      "Epoch 31/40\n",
      "60000/60000 [==============================] - 4s 74us/sample - loss: 0.1353 - acc: 0.9577\n",
      "Epoch 32/40\n",
      "60000/60000 [==============================] - 4s 72us/sample - loss: 0.1332 - acc: 0.9577\n",
      "Epoch 33/40\n",
      "60000/60000 [==============================] - 5s 76us/sample - loss: 0.1362 - acc: 0.9575\n",
      "Epoch 34/40\n",
      "60000/60000 [==============================] - 4s 71us/sample - loss: 0.1378 - acc: 0.9569\n",
      "Epoch 35/40\n",
      "60000/60000 [==============================] - 4s 73us/sample - loss: 0.1441 - acc: 0.9540\n",
      "Epoch 36/40\n",
      "60000/60000 [==============================] - 4s 72us/sample - loss: 0.1372 - acc: 0.9567\n",
      "Epoch 37/40\n",
      "60000/60000 [==============================] - 4s 72us/sample - loss: 0.1347 - acc: 0.9576\n",
      "Epoch 38/40\n",
      "60000/60000 [==============================] - 4s 72us/sample - loss: 0.1365 - acc: 0.9570\n",
      "Epoch 39/40\n",
      "60000/60000 [==============================] - 4s 71us/sample - loss: 0.1337 - acc: 0.9579\n",
      "Epoch 40/40\n",
      "60000/60000 [==============================] - 4s 73us/sample - loss: 0.1259 - acc: 0.9600\n"
     ]
    },
    {
     "data": {
      "text/plain": [
       "<tensorflow.python.keras.callbacks.History at 0x7f6064b57470>"
      ]
     },
     "execution_count": 111,
     "metadata": {
      "tags": []
     },
     "output_type": "execute_result"
    }
   ],
   "source": [
    "model5 = Sequential()\n",
    "model5.add(Dense(100, input_dim=784, activation='sigmoid'))\n",
    "model5.add(Dense(100, input_dim=784, activation='sigmoid'))\n",
    "model5.add(Dense(10, activation = \"softmax\"))\n",
    "model5.compile(loss='categorical_crossentropy', optimizer='adam', metrics=['accuracy'])\n",
    "model5.fit(X_train, y_train, epochs=40)"
   ]
  },
  {
   "cell_type": "markdown",
   "metadata": {
    "colab_type": "text",
    "id": "j1do8Lj834hU"
   },
   "source": [
    "### The accuracy, f1 score, precision score, recall score and confusion matrix obtained by running the model is shown below"
   ]
  },
  {
   "cell_type": "code",
   "execution_count": 112,
   "metadata": {
    "colab": {
     "base_uri": "https://localhost:8080/",
     "height": 52
    },
    "colab_type": "code",
    "id": "TlFseB54L6XX",
    "outputId": "58811ec2-05a4-46dd-91b4-11109266a1c0"
   },
   "outputs": [
    {
     "name": "stdout",
     "output_type": "stream",
     "text": [
      "10000/10000 [==============================] - 0s 46us/sample - loss: 0.1464 - acc: 0.9543\n",
      "Loss =  0.14642892222478987  Accuracy =  0.9543\n"
     ]
    }
   ],
   "source": [
    "score5 = model5.evaluate(X_test, y_test)\n",
    "print('Loss = ', score5[0], ' Accuracy = ', score5[1])\n",
    "a_nn5 = score5[1]"
   ]
  },
  {
   "cell_type": "code",
   "execution_count": 121,
   "metadata": {
    "colab": {
     "base_uri": "https://localhost:8080/",
     "height": 260
    },
    "colab_type": "code",
    "id": "P-ex1XCht0nF",
    "outputId": "3c721894-84db-4267-dcb7-d1878e51e9db"
   },
   "outputs": [
    {
     "name": "stdout",
     "output_type": "stream",
     "text": [
      "f1 score:  0.9542756426779866\n",
      "Precision score:  0.9544382887107254\n",
      "Recall score:  0.9543\n",
      "Confusion matrix: \n",
      " [[ 965    1    1    0    0    3    3    2    2    3]\n",
      " [   0 1121    3    4    0    0    2    1    4    0]\n",
      " [  10    2  987    8    3    2    4    8    7    1]\n",
      " [   1    0   15  950    0   15    0    9   12    8]\n",
      " [   1    1    6    0  928    1    4    2    2   37]\n",
      " [   5    0    2   25    2  836    7    4    7    4]\n",
      " [  10    3    3    0    6   14  917    0    5    0]\n",
      " [   2    9   15    8    1    0    0  980    0   13]\n",
      " [  11    3   10   14    5   10    4    7  897   13]\n",
      " [   1    5    0    7   11    6    1    9    7  962]]\n"
     ]
    }
   ],
   "source": [
    "y_pred5 = model5.predict(X_test)\n",
    "pred5 = []\n",
    "for i in range(len(y_pred5)):\n",
    "    pred5.append(np.argmax(y_pred5[i]))\n",
    "\n",
    "f1_nn5 = f1_score(y_test, pred5, average='weighted')\n",
    "p_nn5 = precision_score(y_test, pred5, average='weighted')\n",
    "r_nn5 = recall_score(y_test, pred5, average='weighted')\n",
    "print(\"f1 score: \",f1_nn5)\n",
    "print(\"Precision score: \",p_nn5)\n",
    "print(\"Recall score: \",r_nn5)\n",
    "print(\"Confusion matrix: \\n\", confusion_matrix(y_test, pred5))"
   ]
  },
  {
   "cell_type": "markdown",
   "metadata": {
    "colab_type": "text",
    "id": "sdBfagu8z0BP"
   },
   "source": [
    "## MLP model 6 with 3 hidden layers of 100 nodes each using activation function 'sigmoid'\n",
    "### We use the 'adam' optimizer.\n",
    "### In this model we further increase the number of hidden layers by 1."
   ]
  },
  {
   "cell_type": "code",
   "execution_count": 113,
   "metadata": {
    "colab": {
     "base_uri": "https://localhost:8080/",
     "height": 1000
    },
    "colab_type": "code",
    "id": "hVeYRQgSO5vB",
    "outputId": "ef9909a2-2390-4ff8-9fa0-79ec580594d6"
   },
   "outputs": [
    {
     "name": "stdout",
     "output_type": "stream",
     "text": [
      "Epoch 1/40\n",
      "60000/60000 [==============================] - 5s 80us/sample - loss: 0.6930 - acc: 0.7980\n",
      "Epoch 2/40\n",
      "60000/60000 [==============================] - 5s 79us/sample - loss: 0.3864 - acc: 0.8786\n",
      "Epoch 3/40\n",
      "60000/60000 [==============================] - 5s 82us/sample - loss: 0.3507 - acc: 0.8907\n",
      "Epoch 4/40\n",
      "60000/60000 [==============================] - 5s 78us/sample - loss: 0.3225 - acc: 0.8990\n",
      "Epoch 5/40\n",
      "60000/60000 [==============================] - 5s 81us/sample - loss: 0.3008 - acc: 0.9059\n",
      "Epoch 6/40\n",
      "60000/60000 [==============================] - 5s 79us/sample - loss: 0.2815 - acc: 0.9112\n",
      "Epoch 7/40\n",
      "60000/60000 [==============================] - 5s 78us/sample - loss: 0.2752 - acc: 0.9129\n",
      "Epoch 8/40\n",
      "60000/60000 [==============================] - 5s 80us/sample - loss: 0.2534 - acc: 0.9197\n",
      "Epoch 9/40\n",
      "60000/60000 [==============================] - 5s 80us/sample - loss: 0.2514 - acc: 0.9201\n",
      "Epoch 10/40\n",
      "60000/60000 [==============================] - 5s 78us/sample - loss: 0.2394 - acc: 0.9244\n",
      "Epoch 11/40\n",
      "60000/60000 [==============================] - 5s 81us/sample - loss: 0.2311 - acc: 0.9266\n",
      "Epoch 12/40\n",
      "60000/60000 [==============================] - 5s 78us/sample - loss: 0.2349 - acc: 0.9252\n",
      "Epoch 13/40\n",
      "60000/60000 [==============================] - 5s 80us/sample - loss: 0.2252 - acc: 0.9296\n",
      "Epoch 14/40\n",
      "60000/60000 [==============================] - 5s 77us/sample - loss: 0.2177 - acc: 0.9319\n",
      "Epoch 15/40\n",
      "60000/60000 [==============================] - 5s 79us/sample - loss: 0.2078 - acc: 0.9342\n",
      "Epoch 16/40\n",
      "60000/60000 [==============================] - 5s 78us/sample - loss: 0.1959 - acc: 0.9386\n",
      "Epoch 17/40\n",
      "60000/60000 [==============================] - 5s 79us/sample - loss: 0.1901 - acc: 0.9392\n",
      "Epoch 18/40\n",
      "60000/60000 [==============================] - 5s 78us/sample - loss: 0.1836 - acc: 0.9409\n",
      "Epoch 19/40\n",
      "60000/60000 [==============================] - 5s 80us/sample - loss: 0.1828 - acc: 0.9422\n",
      "Epoch 20/40\n",
      "60000/60000 [==============================] - 5s 78us/sample - loss: 0.1777 - acc: 0.9434\n",
      "Epoch 21/40\n",
      "60000/60000 [==============================] - 5s 80us/sample - loss: 0.1705 - acc: 0.9451\n",
      "Epoch 22/40\n",
      "60000/60000 [==============================] - 5s 77us/sample - loss: 0.1733 - acc: 0.9449\n",
      "Epoch 23/40\n",
      "60000/60000 [==============================] - 5s 80us/sample - loss: 0.1678 - acc: 0.9464\n",
      "Epoch 24/40\n",
      "60000/60000 [==============================] - 5s 77us/sample - loss: 0.1661 - acc: 0.9474\n",
      "Epoch 25/40\n",
      "60000/60000 [==============================] - 5s 79us/sample - loss: 0.1640 - acc: 0.9484\n",
      "Epoch 26/40\n",
      "60000/60000 [==============================] - 5s 77us/sample - loss: 0.1558 - acc: 0.9503\n",
      "Epoch 27/40\n",
      "60000/60000 [==============================] - 5s 79us/sample - loss: 0.1614 - acc: 0.9485\n",
      "Epoch 28/40\n",
      "60000/60000 [==============================] - 5s 77us/sample - loss: 0.1516 - acc: 0.9515\n",
      "Epoch 29/40\n",
      "60000/60000 [==============================] - 5s 79us/sample - loss: 0.1525 - acc: 0.9510\n",
      "Epoch 30/40\n",
      "60000/60000 [==============================] - 5s 78us/sample - loss: 0.1502 - acc: 0.9520\n",
      "Epoch 31/40\n",
      "60000/60000 [==============================] - 5s 79us/sample - loss: 0.1526 - acc: 0.9512\n",
      "Epoch 32/40\n",
      "60000/60000 [==============================] - 5s 77us/sample - loss: 0.1511 - acc: 0.9513\n",
      "Epoch 33/40\n",
      "60000/60000 [==============================] - 5s 77us/sample - loss: 0.1460 - acc: 0.9526\n",
      "Epoch 34/40\n",
      "60000/60000 [==============================] - 5s 77us/sample - loss: 0.1446 - acc: 0.9535\n",
      "Epoch 35/40\n",
      "60000/60000 [==============================] - 5s 78us/sample - loss: 0.1395 - acc: 0.9552\n",
      "Epoch 36/40\n",
      "60000/60000 [==============================] - 5s 77us/sample - loss: 0.1364 - acc: 0.9559\n",
      "Epoch 37/40\n",
      "60000/60000 [==============================] - 5s 79us/sample - loss: 0.1375 - acc: 0.9554\n",
      "Epoch 38/40\n",
      "60000/60000 [==============================] - 5s 75us/sample - loss: 0.1361 - acc: 0.9569\n",
      "Epoch 39/40\n",
      "60000/60000 [==============================] - 5s 78us/sample - loss: 0.1362 - acc: 0.9559\n",
      "Epoch 40/40\n",
      "60000/60000 [==============================] - 5s 75us/sample - loss: 0.1295 - acc: 0.9590\n"
     ]
    },
    {
     "data": {
      "text/plain": [
       "<tensorflow.python.keras.callbacks.History at 0x7f60647d57f0>"
      ]
     },
     "execution_count": 113,
     "metadata": {
      "tags": []
     },
     "output_type": "execute_result"
    }
   ],
   "source": [
    "model6 = Sequential()\n",
    "model6.add(Dense(100, input_dim=784, activation='sigmoid'))\n",
    "model6.add(Dense(100, input_dim=784, activation='sigmoid'))\n",
    "model6.add(Dense(100, input_dim=784, activation='sigmoid'))\n",
    "model6.add(Dense(10, activation = \"softmax\"))\n",
    "model6.compile(loss='categorical_crossentropy', optimizer='adam', metrics=['accuracy'])\n",
    "model6.fit(X_train, y_train, epochs=40)"
   ]
  },
  {
   "cell_type": "markdown",
   "metadata": {
    "colab_type": "text",
    "id": "j1do8Lj834hU"
   },
   "source": [
    "### The accuracy, f1 score, precision score, recall score and confusion matrix obtained by running the model is shown below"
   ]
  },
  {
   "cell_type": "code",
   "execution_count": 114,
   "metadata": {
    "colab": {
     "base_uri": "https://localhost:8080/",
     "height": 52
    },
    "colab_type": "code",
    "id": "k9CnTdYAPAYO",
    "outputId": "c20979b6-130f-469a-9816-b7f2f24a1809"
   },
   "outputs": [
    {
     "name": "stdout",
     "output_type": "stream",
     "text": [
      "10000/10000 [==============================] - 0s 43us/sample - loss: 0.1419 - acc: 0.9527\n",
      "Loss =  0.14187228043526412  Accuracy =  0.9527\n"
     ]
    }
   ],
   "source": [
    "score6 = model6.evaluate(X_test, y_test)\n",
    "print('Loss = ', score6[0], ' Accuracy = ', score6[1])\n",
    "a_nn6 = score6[1]"
   ]
  },
  {
   "cell_type": "code",
   "execution_count": 122,
   "metadata": {
    "colab": {
     "base_uri": "https://localhost:8080/",
     "height": 260
    },
    "colab_type": "code",
    "id": "gQRzJzqNuPNV",
    "outputId": "7a69bb1a-36e4-407a-c3e7-d2d20c5981b0"
   },
   "outputs": [
    {
     "name": "stdout",
     "output_type": "stream",
     "text": [
      "f1 score:  0.952713292371295\n",
      "Precision score:  0.9528063644041739\n",
      "Recall score:  0.9527\n",
      "Confusion matrix: \n",
      " [[ 957    0    0    2    0    1    8    2    4    6]\n",
      " [   0 1117    5    1    0    1    1    0    9    1]\n",
      " [   7    3  984   14    1    2    3    9    8    1]\n",
      " [   0    1    9  960    0   10    0   11   18    1]\n",
      " [   2    0    4    0  936    2    7    3    3   25]\n",
      " [   6    2    0   23    2  838    9    1    8    3]\n",
      " [   6    4    4    0    6   11  921    0    5    1]\n",
      " [   1    9   13    4    3    0    0  970    1   27]\n",
      " [   0    2    7   21    7    7    4    3  913   10]\n",
      " [   7    7    0   10   14    9    1   10   20  931]]\n"
     ]
    }
   ],
   "source": [
    "y_pred6 = model6.predict(X_test)\n",
    "pred6 = []\n",
    "for i in range(len(y_pred6)):\n",
    "    pred6.append(np.argmax(y_pred6[i]))\n",
    "\n",
    "f1_nn6 = f1_score(y_test, pred6, average='weighted')\n",
    "p_nn6 = precision_score(y_test, pred6, average='weighted')\n",
    "r_nn6 = recall_score(y_test, pred6, average='weighted')\n",
    "print(\"f1 score: \",f1_nn6)\n",
    "print(\"Precision score: \",p_nn6)\n",
    "print(\"Recall score: \",r_nn6)\n",
    "print(\"Confusion matrix: \\n\", confusion_matrix(y_test, pred6))"
   ]
  },
  {
   "cell_type": "markdown",
   "metadata": {
    "colab_type": "text",
    "id": "nToyu9Rv5BKc"
   },
   "source": [
    "# Summary of the MLP models"
   ]
  },
  {
   "cell_type": "code",
   "execution_count": 136,
   "metadata": {
    "colab": {
     "base_uri": "https://localhost:8080/",
     "height": 238
    },
    "colab_type": "code",
    "id": "QyHG-fFSugGN",
    "outputId": "24b0bb42-8769-48a7-9eaf-b766179aceb2"
   },
   "outputs": [
    {
     "data": {
      "text/html": [
       "<div>\n",
       "<style scoped>\n",
       "    .dataframe tbody tr th:only-of-type {\n",
       "        vertical-align: middle;\n",
       "    }\n",
       "\n",
       "    .dataframe tbody tr th {\n",
       "        vertical-align: top;\n",
       "    }\n",
       "\n",
       "    .dataframe thead th {\n",
       "        text-align: right;\n",
       "    }\n",
       "</style>\n",
       "<table border=\"1\" class=\"dataframe\">\n",
       "  <thead>\n",
       "    <tr style=\"text-align: right;\">\n",
       "      <th></th>\n",
       "      <th>Model</th>\n",
       "      <th>Accuracy</th>\n",
       "      <th>F1 score</th>\n",
       "      <th>Precision score</th>\n",
       "      <th>Recall score</th>\n",
       "    </tr>\n",
       "  </thead>\n",
       "  <tbody>\n",
       "    <tr>\n",
       "      <th>0</th>\n",
       "      <td>MLP model 1</td>\n",
       "      <td>0.9248</td>\n",
       "      <td>0.924705</td>\n",
       "      <td>0.924956</td>\n",
       "      <td>0.9248</td>\n",
       "    </tr>\n",
       "    <tr>\n",
       "      <th>1</th>\n",
       "      <td>MLP model 2</td>\n",
       "      <td>0.9472</td>\n",
       "      <td>0.947134</td>\n",
       "      <td>0.947205</td>\n",
       "      <td>0.9472</td>\n",
       "    </tr>\n",
       "    <tr>\n",
       "      <th>2</th>\n",
       "      <td>MLP model 3</td>\n",
       "      <td>0.9459</td>\n",
       "      <td>0.946498</td>\n",
       "      <td>0.948778</td>\n",
       "      <td>0.9459</td>\n",
       "    </tr>\n",
       "    <tr>\n",
       "      <th>3</th>\n",
       "      <td>MLP model 4</td>\n",
       "      <td>0.9482</td>\n",
       "      <td>0.948169</td>\n",
       "      <td>0.948236</td>\n",
       "      <td>0.9482</td>\n",
       "    </tr>\n",
       "    <tr>\n",
       "      <th>4</th>\n",
       "      <td>MLP model 5</td>\n",
       "      <td>0.9543</td>\n",
       "      <td>0.954276</td>\n",
       "      <td>0.954438</td>\n",
       "      <td>0.9543</td>\n",
       "    </tr>\n",
       "    <tr>\n",
       "      <th>5</th>\n",
       "      <td>MLP model 6</td>\n",
       "      <td>0.9527</td>\n",
       "      <td>0.952713</td>\n",
       "      <td>0.952806</td>\n",
       "      <td>0.9527</td>\n",
       "    </tr>\n",
       "  </tbody>\n",
       "</table>\n",
       "</div>"
      ],
      "text/plain": [
       "         Model  Accuracy  F1 score  Precision score  Recall score\n",
       "0  MLP model 1    0.9248  0.924705         0.924956        0.9248\n",
       "1  MLP model 2    0.9472  0.947134         0.947205        0.9472\n",
       "2  MLP model 3    0.9459  0.946498         0.948778        0.9459\n",
       "3  MLP model 4    0.9482  0.948169         0.948236        0.9482\n",
       "4  MLP model 5    0.9543  0.954276         0.954438        0.9543\n",
       "5  MLP model 6    0.9527  0.952713         0.952806        0.9527"
      ]
     },
     "execution_count": 136,
     "metadata": {
      "tags": []
     },
     "output_type": "execute_result"
    }
   ],
   "source": [
    "nn_l1 = [\"MLP model 1\", a_nn1, f1_nn1, p_nn1, r_nn1]\n",
    "nn_l2 = [\"MLP model 2\", a_nn2, f1_nn2, p_nn2, r_nn2]\n",
    "nn_l3 = [\"MLP model 3\", a_nn3, f1_nn3, p_nn3, r_nn3]\n",
    "nn_l4 = [\"MLP model 4\", a_nn4, f1_nn4, p_nn4, r_nn4]\n",
    "nn_l5 = [\"MLP model 5\", a_nn5, f1_nn5, p_nn5, r_nn5]\n",
    "nn_l6 = [\"MLP model 6\", a_nn6, f1_nn6, p_nn6, r_nn6]\n",
    "data = [nn_l1, nn_l2, nn_l3, nn_l4, nn_l5, nn_l6]\n",
    "df = pd.DataFrame(data, columns = ['Model', 'Accuracy', 'F1 score', 'Precision score', 'Recall score'])\n",
    "df"
   ]
  },
  {
   "cell_type": "markdown",
   "metadata": {
    "colab_type": "text",
    "id": "IrSxJZAyKEWE"
   },
   "source": [
    "# Covolutional Neural Network (CNN)"
   ]
  },
  {
   "cell_type": "code",
   "execution_count": 0,
   "metadata": {
    "colab": {},
    "colab_type": "code",
    "id": "mF0lCodYsMWt"
   },
   "outputs": [],
   "source": [
    "!pip install tensorflow==1.14"
   ]
  },
  {
   "cell_type": "code",
   "execution_count": 0,
   "metadata": {
    "colab": {},
    "colab_type": "code",
    "id": "fhae_KuaoQdM"
   },
   "outputs": [],
   "source": [
    "from keras.models import Sequential\n",
    "from keras.layers import Dense, Conv2D, Dropout, Flatten, MaxPooling2D"
   ]
  },
  {
   "cell_type": "code",
   "execution_count": 0,
   "metadata": {
    "colab": {},
    "colab_type": "code",
    "id": "ynTM35BOHcb1"
   },
   "outputs": [],
   "source": [
    "X_train = X_train.reshape(X_train.shape[0], 28, 28, 1)\n",
    "X_test = X_test.reshape(X_test.shape[0], 28, 28, 1)\n",
    "input_shape = (28, 28, 1)\n",
    "# X_train.dtype\n",
    "X_train = X_train.astype('float32')\n",
    "# X_train.dtype\n",
    "X_test = X_test.astype('float32')\n",
    "X_train = X_train/255\n",
    "X_test = X_test/255"
   ]
  },
  {
   "cell_type": "code",
   "execution_count": 9,
   "metadata": {
    "colab": {
     "base_uri": "https://localhost:8080/",
     "height": 86
    },
    "colab_type": "code",
    "id": "SIN7XvcC2YDg",
    "outputId": "5db6ec00-a365-462d-cdeb-c8da37543296"
   },
   "outputs": [
    {
     "name": "stdout",
     "output_type": "stream",
     "text": [
      "(60000, 28, 28, 1)\n",
      "(60000, 10)\n",
      "(10000, 28, 28, 1)\n",
      "(10000, 10)\n"
     ]
    }
   ],
   "source": [
    "print(X_train.shape)\n",
    "print(y_train.shape)\n",
    "print(X_test.shape)\n",
    "print(y_test.shape)"
   ]
  },
  {
   "cell_type": "markdown",
   "metadata": {
    "colab_type": "text",
    "id": "1_D-kXXh3VJ7"
   },
   "source": [
    "## CNN model 1 using 1 Conv2D layer using activation function 'sigmoid' "
   ]
  },
  {
   "cell_type": "code",
   "execution_count": 16,
   "metadata": {
    "colab": {
     "base_uri": "https://localhost:8080/",
     "height": 382
    },
    "colab_type": "code",
    "id": "sUPu_GPAIQ1i",
    "outputId": "b13c41ac-0b4f-46c6-a49d-ccbc1fe8454b"
   },
   "outputs": [
    {
     "name": "stdout",
     "output_type": "stream",
     "text": [
      "Epoch 1/10\n",
      "60000/60000 [==============================] - 20s 338us/step - loss: 1.1379 - acc: 0.6494\n",
      "Epoch 2/10\n",
      "60000/60000 [==============================] - 20s 330us/step - loss: 0.3952 - acc: 0.8832\n",
      "Epoch 3/10\n",
      "60000/60000 [==============================] - 20s 330us/step - loss: 0.3400 - acc: 0.8976\n",
      "Epoch 4/10\n",
      "60000/60000 [==============================] - 19s 321us/step - loss: 0.3143 - acc: 0.9053\n",
      "Epoch 5/10\n",
      "60000/60000 [==============================] - 19s 325us/step - loss: 0.2936 - acc: 0.9126\n",
      "Epoch 6/10\n",
      "60000/60000 [==============================] - 19s 323us/step - loss: 0.2700 - acc: 0.9207\n",
      "Epoch 7/10\n",
      "60000/60000 [==============================] - 19s 319us/step - loss: 0.2479 - acc: 0.9275\n",
      "Epoch 8/10\n",
      "60000/60000 [==============================] - 19s 322us/step - loss: 0.2286 - acc: 0.9325\n",
      "Epoch 9/10\n",
      "60000/60000 [==============================] - 19s 322us/step - loss: 0.2077 - acc: 0.9408\n",
      "Epoch 10/10\n",
      "60000/60000 [==============================] - 20s 325us/step - loss: 0.1912 - acc: 0.9435\n"
     ]
    },
    {
     "data": {
      "text/plain": [
       "<keras.callbacks.History at 0x7f6067fc9470>"
      ]
     },
     "execution_count": 16,
     "metadata": {
      "tags": []
     },
     "output_type": "execute_result"
    }
   ],
   "source": [
    "model1 = Sequential()\n",
    "model1.add(Conv2D(28, kernel_size=(3,3), activation = 'sigmoid', input_shape=input_shape))\n",
    "model1.add(MaxPooling2D(pool_size=(2, 2)))\n",
    "model1.add(Flatten())\n",
    "model1.add(Dense(10,activation='softmax'))\n",
    "model1.compile(optimizer='adam', loss='categorical_crossentropy', metrics=['accuracy'])\n",
    "model1.fit(X_train, y_train, batch_size=128, epochs=10)"
   ]
  },
  {
   "cell_type": "markdown",
   "metadata": {
    "colab_type": "text",
    "id": "j1do8Lj834hU"
   },
   "source": [
    "### The accuracy, f1 score, precision score, recall score and confusion matrix obtained by running the model is shown below"
   ]
  },
  {
   "cell_type": "code",
   "execution_count": 71,
   "metadata": {
    "colab": {
     "base_uri": "https://localhost:8080/",
     "height": 52
    },
    "colab_type": "code",
    "id": "xT4HRKuMutXd",
    "outputId": "642faa9f-76c5-4f24-8257-ae010d4a0def"
   },
   "outputs": [
    {
     "name": "stdout",
     "output_type": "stream",
     "text": [
      "10000/10000 [==============================] - 2s 198us/step\n",
      "Loss =  0.18071984765529633  Accuracy =  0.948\n"
     ]
    }
   ],
   "source": [
    "score1 = model1.evaluate(X_test, y_test)\n",
    "print('Loss = ', score1[0], ' Accuracy = ', score1[1])\n",
    "a_cnn1 = score1[1]"
   ]
  },
  {
   "cell_type": "code",
   "execution_count": 65,
   "metadata": {
    "colab": {
     "base_uri": "https://localhost:8080/",
     "height": 260
    },
    "colab_type": "code",
    "id": "JRBzvSEwm2C3",
    "outputId": "385c9fe1-a32c-48a3-94d6-3f668e207b93"
   },
   "outputs": [
    {
     "name": "stdout",
     "output_type": "stream",
     "text": [
      "f1 score:  0.9478929253148535\n",
      "Precision score:  0.9487443580517673\n",
      "Recall score:  0.948\n",
      "Confusion matrix: \n",
      " [[ 974    0    1    1    0    1    0    2    1    0]\n",
      " [   0 1124    4    1    1    1    1    0    3    0]\n",
      " [  10    4  963   10   13    0    1   12   16    3]\n",
      " [   2    0   14  944    2   15    0   14   14    5]\n",
      " [   3    0    5    0  952    0    0    3    4   15]\n",
      " [  10    2    3   12    4  839    2    5   13    2]\n",
      " [  25    4   14    0   26   25  855    2    7    0]\n",
      " [   3    9   19    5    6    0    0  978    0    8]\n",
      " [   7    2    8   10    7    5    0    5  919   11]\n",
      " [   9    6    1    5   26    2    0   18   10  932]]\n"
     ]
    }
   ],
   "source": [
    "y_pred1 = model1.predict(X_test)\n",
    "pred1 = []\n",
    "for i in range(len(y_pred1)):\n",
    "    pred1.append(np.argmax(y_pred1[i]))\n",
    "\n",
    "f1_cnn1 = f1_score(y_test, pred1, average='weighted')\n",
    "p_cnn1 = precision_score(y_test, pred1, average='weighted')\n",
    "r_cnn1 = recall_score(y_test, pred1, average='weighted')\n",
    "print(\"f1 score: \",f1_cnn1)\n",
    "print(\"Precision score: \",p_cnn1)\n",
    "print(\"Recall score: \",r_cnn1)\n",
    "print(\"Confusion matrix: \\n\", confusion_matrix(y_test, pred1))"
   ]
  },
  {
   "cell_type": "markdown",
   "metadata": {
    "colab_type": "text",
    "id": "c2ygGOeg3mRn"
   },
   "source": [
    "## CNN model 2 using 2 Conv2D layers using activation function 'relu' \n",
    "### Thus in this model we test by adding another convolutional layer, increasing the number of nodes in one of the convolutional layers and changing the activation function."
   ]
  },
  {
   "cell_type": "code",
   "execution_count": 19,
   "metadata": {
    "colab": {
     "base_uri": "https://localhost:8080/",
     "height": 382
    },
    "colab_type": "code",
    "id": "ZPX5Fy-_7H4m",
    "outputId": "a137e87a-17fc-407e-95ea-df90aab32e90"
   },
   "outputs": [
    {
     "name": "stdout",
     "output_type": "stream",
     "text": [
      "Epoch 1/10\n",
      "60000/60000 [==============================] - 103s 2ms/step - loss: 0.2124 - acc: 0.9386\n",
      "Epoch 2/10\n",
      "60000/60000 [==============================] - 101s 2ms/step - loss: 0.0608 - acc: 0.9818\n",
      "Epoch 3/10\n",
      "60000/60000 [==============================] - 101s 2ms/step - loss: 0.0433 - acc: 0.9868\n",
      "Epoch 4/10\n",
      "60000/60000 [==============================] - 100s 2ms/step - loss: 0.0331 - acc: 0.9898\n",
      "Epoch 5/10\n",
      "60000/60000 [==============================] - 100s 2ms/step - loss: 0.0267 - acc: 0.9916\n",
      "Epoch 6/10\n",
      "60000/60000 [==============================] - 99s 2ms/step - loss: 0.0222 - acc: 0.9929\n",
      "Epoch 7/10\n",
      "60000/60000 [==============================] - 99s 2ms/step - loss: 0.0171 - acc: 0.9944\n",
      "Epoch 8/10\n",
      "60000/60000 [==============================] - 99s 2ms/step - loss: 0.0130 - acc: 0.9958\n",
      "Epoch 9/10\n",
      "60000/60000 [==============================] - 99s 2ms/step - loss: 0.0118 - acc: 0.9961\n",
      "Epoch 10/10\n",
      "60000/60000 [==============================] - 100s 2ms/step - loss: 0.0098 - acc: 0.9968\n"
     ]
    },
    {
     "data": {
      "text/plain": [
       "<keras.callbacks.History at 0x7f6067c78b38>"
      ]
     },
     "execution_count": 19,
     "metadata": {
      "tags": []
     },
     "output_type": "execute_result"
    }
   ],
   "source": [
    "model2 = Sequential()\n",
    "model2.add(Conv2D(32, kernel_size=(3,3), activation='relu', input_shape=input_shape))\n",
    "model2.add(Conv2D(64, (3, 3), activation='relu'))\n",
    "model2.add(MaxPooling2D(pool_size=(2, 2)))\n",
    "model2.add(Flatten())\n",
    "model2.add(Dense(10,activation='softmax'))\n",
    "model2.compile(optimizer='adam', loss='categorical_crossentropy', metrics=['accuracy'])\n",
    "model2.fit(X_train, y_train, batch_size=128, epochs=10)"
   ]
  },
  {
   "cell_type": "markdown",
   "metadata": {
    "colab_type": "text",
    "id": "j1do8Lj834hU"
   },
   "source": [
    "### The accuracy, f1 score, precision score, recall score and confusion matrix obtained by running the model is shown below"
   ]
  },
  {
   "cell_type": "code",
   "execution_count": 70,
   "metadata": {
    "colab": {
     "base_uri": "https://localhost:8080/",
     "height": 52
    },
    "colab_type": "code",
    "id": "VZ0tkcW47TJo",
    "outputId": "37faba28-2505-42ca-cdb2-214b1eba3bcc"
   },
   "outputs": [
    {
     "name": "stdout",
     "output_type": "stream",
     "text": [
      "10000/10000 [==============================] - 5s 515us/step\n",
      "Loss =  0.04824989859047273  Accuracy =  0.988\n"
     ]
    }
   ],
   "source": [
    "score2 = model2.evaluate(X_test, y_test)\n",
    "print('Loss = ', score2[0], ' Accuracy = ', score2[1])\n",
    "a_cnn2 = score2[1]"
   ]
  },
  {
   "cell_type": "code",
   "execution_count": 64,
   "metadata": {
    "colab": {
     "base_uri": "https://localhost:8080/",
     "height": 260
    },
    "colab_type": "code",
    "id": "6YLElCYQmmju",
    "outputId": "740df4c4-0cc3-4acd-decc-739e50390553"
   },
   "outputs": [
    {
     "name": "stdout",
     "output_type": "stream",
     "text": [
      "f1 score:  0.9880025565099859\n",
      "Precision score:  0.9880673420408137\n",
      "Recall score:  0.988\n",
      "Confusion matrix: \n",
      " [[ 970    0    0    1    0    0    5    0    1    3]\n",
      " [   0 1128    1    2    0    0    2    0    2    0]\n",
      " [   1    1 1017    6    0    0    1    5    1    0]\n",
      " [   0    0    0 1008    0    2    0    0    0    0]\n",
      " [   0    1    0    0  976    0    1    0    0    4]\n",
      " [   1    0    0   10    0  879    1    0    0    1]\n",
      " [   2    2    0    1    1    1  950    0    1    0]\n",
      " [   0    4    7    3    0    0    0 1010    1    3]\n",
      " [   4    0    3    3    0    2    2    2  956    2]\n",
      " [   0    3    0    7    5    3    0    2    3  986]]\n"
     ]
    }
   ],
   "source": [
    "y_pred2 = model2.predict(X_test)\n",
    "pred2 = []\n",
    "for i in range(len(y_pred2)):\n",
    "    pred2.append(np.argmax(y_pred2[i]))\n",
    "\n",
    "f1_cnn2 = f1_score(y_test, pred2, average='weighted')\n",
    "p_cnn2 = precision_score(y_test, pred2, average='weighted')\n",
    "r_cnn2 = recall_score(y_test, pred2, average='weighted')\n",
    "print(\"f1 score: \",f1_cnn2)\n",
    "print(\"Precision score: \",p_cnn2)\n",
    "print(\"Recall score: \",r_cnn2)\n",
    "print(\"Confusion matrix: \\n\", confusion_matrix(y_test, pred2))"
   ]
  },
  {
   "cell_type": "markdown",
   "metadata": {
    "colab_type": "text",
    "id": "j1do8Lj834hU"
   },
   "source": [
    "## CNN model 3 using 2 Conv2D layers using activation function 'relu' and another layer of 128 nodes.\n",
    "### Thus in this model we test by adding another layer."
   ]
  },
  {
   "cell_type": "code",
   "execution_count": 21,
   "metadata": {
    "colab": {
     "base_uri": "https://localhost:8080/",
     "height": 382
    },
    "colab_type": "code",
    "id": "vUTp6f0S7fIg",
    "outputId": "a6881eef-7fc4-4760-82b4-4ddef510d883"
   },
   "outputs": [
    {
     "name": "stdout",
     "output_type": "stream",
     "text": [
      "Epoch 1/10\n",
      "60000/60000 [==============================] - 59s 981us/step - loss: 0.1972 - acc: 0.9420\n",
      "Epoch 2/10\n",
      "60000/60000 [==============================] - 58s 960us/step - loss: 0.0543 - acc: 0.9841\n",
      "Epoch 3/10\n",
      "60000/60000 [==============================] - 57s 946us/step - loss: 0.0347 - acc: 0.9895\n",
      "Epoch 4/10\n",
      "60000/60000 [==============================] - 57s 942us/step - loss: 0.0253 - acc: 0.9921\n",
      "Epoch 5/10\n",
      "60000/60000 [==============================] - 56s 933us/step - loss: 0.0171 - acc: 0.9945\n",
      "Epoch 6/10\n",
      "60000/60000 [==============================] - 56s 925us/step - loss: 0.0125 - acc: 0.9959\n",
      "Epoch 7/10\n",
      "60000/60000 [==============================] - 55s 922us/step - loss: 0.0088 - acc: 0.9973\n",
      "Epoch 8/10\n",
      "60000/60000 [==============================] - 56s 926us/step - loss: 0.0070 - acc: 0.9978\n",
      "Epoch 9/10\n",
      "60000/60000 [==============================] - 55s 918us/step - loss: 0.0056 - acc: 0.9982\n",
      "Epoch 10/10\n",
      "60000/60000 [==============================] - 55s 919us/step - loss: 0.0063 - acc: 0.9980\n"
     ]
    },
    {
     "data": {
      "text/plain": [
       "<keras.callbacks.History at 0x7f60677c9eb8>"
      ]
     },
     "execution_count": 21,
     "metadata": {
      "tags": []
     },
     "output_type": "execute_result"
    }
   ],
   "source": [
    "model3 = Sequential()\n",
    "model3.add(Conv2D(32, kernel_size=(3,3), activation='relu', input_shape=input_shape))\n",
    "model3.add(Dense(64, activation='relu'))\n",
    "model3.add(MaxPooling2D(pool_size=(2, 2)))\n",
    "model3.add(Flatten())\n",
    "model3.add(Dense(128, activation='relu'))\n",
    "model3.add(Dense(10,activation='softmax'))\n",
    "model3.compile(optimizer='adam', loss='categorical_crossentropy', metrics=['accuracy'])\n",
    "model3.fit(X_train, y_train, batch_size=128, epochs=10)"
   ]
  },
  {
   "cell_type": "markdown",
   "metadata": {
    "colab_type": "text",
    "id": "j1do8Lj834hU"
   },
   "source": [
    "### The accuracy, f1 score, precision score, recall score and confusion matrix obtained by running the model is shown below"
   ]
  },
  {
   "cell_type": "code",
   "execution_count": 69,
   "metadata": {
    "colab": {
     "base_uri": "https://localhost:8080/",
     "height": 52
    },
    "colab_type": "code",
    "id": "ioHtwu4F7n90",
    "outputId": "32261b8f-f6c9-4ece-d4ad-75cb173bc788"
   },
   "outputs": [
    {
     "name": "stdout",
     "output_type": "stream",
     "text": [
      "10000/10000 [==============================] - 3s 316us/step\n",
      "Loss =  0.04637024184245347  Accuracy =  0.9887\n"
     ]
    }
   ],
   "source": [
    "score3 = model3.evaluate(X_test, y_test)\n",
    "print('Loss = ', score3[0], ' Accuracy = ', score3[1])\n",
    "a_cnn3 = score3[1]"
   ]
  },
  {
   "cell_type": "code",
   "execution_count": 63,
   "metadata": {
    "colab": {
     "base_uri": "https://localhost:8080/",
     "height": 260
    },
    "colab_type": "code",
    "id": "0vilUf5dmYAo",
    "outputId": "3d28bb8f-d746-47bd-9e2f-840aa4dfc703"
   },
   "outputs": [
    {
     "name": "stdout",
     "output_type": "stream",
     "text": [
      "f1 score:  0.9886963829908504\n",
      "Precision score:  0.9887282417107286\n",
      "Recall score:  0.9887\n",
      "Confusion matrix: \n",
      " [[ 979    0    0    0    0    0    0    1    0    0]\n",
      " [   0 1131    2    1    0    0    0    0    1    0]\n",
      " [   2    2 1019    1    1    0    0    4    3    0]\n",
      " [   0    0    1 1005    0    1    0    1    2    0]\n",
      " [   1    1    2    0  963    0    2    0    2   11]\n",
      " [   1    0    0    6    0  882    2    0    0    1]\n",
      " [   7    2    1    0    2    1  944    0    1    0]\n",
      " [   0    2    7    4    0    0    0 1012    1    2]\n",
      " [   3    0    1    3    0    1    1    1  960    4]\n",
      " [   2    1    1    2    3    5    0    1    2  992]]\n"
     ]
    }
   ],
   "source": [
    "y_pred3 = model3.predict(X_test)\n",
    "pred3 = []\n",
    "for i in range(len(y_pred3)):\n",
    "    pred3.append(np.argmax(y_pred3[i]))\n",
    "\n",
    "f1_cnn3 = f1_score(y_test, pred3, average='weighted')\n",
    "p_cnn3 = precision_score(y_test, pred3, average='weighted')\n",
    "r_cnn3 = recall_score(y_test, pred3, average='weighted')\n",
    "print(\"f1 score: \",f1_cnn3)\n",
    "print(\"Precision score: \",p_cnn3)\n",
    "print(\"Recall score: \",r_cnn3)\n",
    "print(\"Confusion matrix: \\n\", confusion_matrix(y_test, pred3))"
   ]
  },
  {
   "cell_type": "markdown",
   "metadata": {
    "colab_type": "text",
    "id": "J0vWPZjs4IpB"
   },
   "source": [
    "## CNN model 4 using 2 Conv2D layers using activation function 'relu' and another layer of 128 nodes.\n",
    "### We also add dropout layers."
   ]
  },
  {
   "cell_type": "code",
   "execution_count": 23,
   "metadata": {
    "colab": {
     "base_uri": "https://localhost:8080/",
     "height": 382
    },
    "colab_type": "code",
    "id": "SYW9llckqjED",
    "outputId": "6d08df07-afd8-4878-d22d-d84323111b52"
   },
   "outputs": [
    {
     "name": "stdout",
     "output_type": "stream",
     "text": [
      "Epoch 1/10\n",
      "60000/60000 [==============================] - 121s 2ms/step - loss: 0.2621 - acc: 0.9181\n",
      "Epoch 2/10\n",
      "60000/60000 [==============================] - 118s 2ms/step - loss: 0.0891 - acc: 0.9737\n",
      "Epoch 3/10\n",
      "60000/60000 [==============================] - 118s 2ms/step - loss: 0.0688 - acc: 0.9798\n",
      "Epoch 4/10\n",
      "60000/60000 [==============================] - 120s 2ms/step - loss: 0.0570 - acc: 0.9835\n",
      "Epoch 5/10\n",
      "60000/60000 [==============================] - 116s 2ms/step - loss: 0.0486 - acc: 0.9855\n",
      "Epoch 6/10\n",
      "60000/60000 [==============================] - 121s 2ms/step - loss: 0.0420 - acc: 0.9874\n",
      "Epoch 7/10\n",
      "60000/60000 [==============================] - 121s 2ms/step - loss: 0.0381 - acc: 0.9887\n",
      "Epoch 8/10\n",
      "60000/60000 [==============================] - 121s 2ms/step - loss: 0.0344 - acc: 0.9896\n",
      "Epoch 9/10\n",
      "60000/60000 [==============================] - 121s 2ms/step - loss: 0.0314 - acc: 0.9899\n",
      "Epoch 10/10\n",
      "60000/60000 [==============================] - 120s 2ms/step - loss: 0.0312 - acc: 0.9903\n"
     ]
    },
    {
     "data": {
      "text/plain": [
       "<keras.callbacks.History at 0x7f60672e0048>"
      ]
     },
     "execution_count": 23,
     "metadata": {
      "tags": []
     },
     "output_type": "execute_result"
    }
   ],
   "source": [
    "model4 = Sequential()\n",
    "model4.add(Conv2D(32, kernel_size=(3, 3), activation='relu', input_shape=input_shape))\n",
    "model4.add(Conv2D(64, (3, 3), activation='relu'))\n",
    "model4.add(MaxPooling2D(pool_size=(2, 2)))\n",
    "model4.add(Dropout(0.25))\n",
    "model4.add(Flatten())\n",
    "model4.add(Dense(128, activation='relu'))\n",
    "model4.add(Dropout(0.5))\n",
    "model4.add(Dense(10, activation='softmax'))\n",
    "model4.compile(optimizer=keras.optimizers.Adadelta(), loss='categorical_crossentropy', metrics=['accuracy'])\n",
    "model4.fit(X_train, y_train, batch_size=128, epochs=10)"
   ]
  },
  {
   "cell_type": "markdown",
   "metadata": {
    "colab_type": "text",
    "id": "j1do8Lj834hU"
   },
   "source": [
    "### The accuracy, f1 score, precision score, recall score and confusion matrix obtained by running the model is shown below"
   ]
  },
  {
   "cell_type": "code",
   "execution_count": 67,
   "metadata": {
    "colab": {
     "base_uri": "https://localhost:8080/",
     "height": 52
    },
    "colab_type": "code",
    "id": "ItfY9THqI_J-",
    "outputId": "b03a57f4-b9a8-46be-956b-75f760ce452b"
   },
   "outputs": [
    {
     "name": "stdout",
     "output_type": "stream",
     "text": [
      "10000/10000 [==============================] - 5s 504us/step\n",
      "Loss =  0.027261577927844338  Accuracy =  0.9904\n"
     ]
    }
   ],
   "source": [
    "score4 = model4.evaluate(X_test, y_test)\n",
    "print('Loss = ', score4[0], ' Accuracy = ', score4[1])\n",
    "a_cnn4 = score4[1]"
   ]
  },
  {
   "cell_type": "code",
   "execution_count": 62,
   "metadata": {
    "colab": {
     "base_uri": "https://localhost:8080/",
     "height": 260
    },
    "colab_type": "code",
    "id": "gxc1eHOYYHVu",
    "outputId": "949fc05b-9b87-4384-b0d9-2a60d2c474a2"
   },
   "outputs": [
    {
     "name": "stdout",
     "output_type": "stream",
     "text": [
      "f1 score:  0.9903989674914703\n",
      "Precision score:  0.9904144613900989\n",
      "Recall score:  0.9904\n",
      "Confusion matrix: \n",
      " [[ 974    0    0    0    0    0    4    1    1    0]\n",
      " [   0 1130    1    1    0    1    2    0    0    0]\n",
      " [   1    1 1022    1    1    0    2    2    2    0]\n",
      " [   0    0    3 1002    0    4    0    0    1    0]\n",
      " [   0    0    0    0  974    0    3    0    2    3]\n",
      " [   2    0    0    4    0  883    3    0    0    0]\n",
      " [   3    1    0    0    1    1  951    0    1    0]\n",
      " [   0    2    6    1    0    0    0 1017    1    1]\n",
      " [   4    0    1    0    0    0    3    1  962    3]\n",
      " [   2    1    0    1    6    5    0    3    2  989]]\n"
     ]
    }
   ],
   "source": [
    "y_pred4 = model4.predict(X_test)\n",
    "pred4 = []\n",
    "for i in range(len(y_pred4)):\n",
    "    pred4.append(np.argmax(y_pred4[i]))\n",
    "\n",
    "f1_cnn4 = f1_score(y_test, pred4, average='weighted')\n",
    "p_cnn4 = precision_score(y_test, pred4, average='weighted')\n",
    "r_cnn4 = recall_score(y_test, pred4, average='weighted')\n",
    "print(\"f1 score: \",f1_cnn4)\n",
    "print(\"Precision score: \",p_cnn4)\n",
    "print(\"Recall score: \",r_cnn4)\n",
    "print(\"Confusion matrix: \\n\", confusion_matrix(y_test, pred4))"
   ]
  },
  {
   "cell_type": "markdown",
   "metadata": {
    "colab_type": "text",
    "id": "DnAA7OFa43Kg"
   },
   "source": [
    "# Summary of the CNN models"
   ]
  },
  {
   "cell_type": "code",
   "execution_count": 144,
   "metadata": {
    "colab": {
     "base_uri": "https://localhost:8080/",
     "height": 175
    },
    "colab_type": "code",
    "id": "GZKx0B3cjXoI",
    "outputId": "d34b0a04-aade-45ff-c1e6-ddf51da82622"
   },
   "outputs": [
    {
     "data": {
      "text/html": [
       "<div>\n",
       "<style scoped>\n",
       "    .dataframe tbody tr th:only-of-type {\n",
       "        vertical-align: middle;\n",
       "    }\n",
       "\n",
       "    .dataframe tbody tr th {\n",
       "        vertical-align: top;\n",
       "    }\n",
       "\n",
       "    .dataframe thead th {\n",
       "        text-align: right;\n",
       "    }\n",
       "</style>\n",
       "<table border=\"1\" class=\"dataframe\">\n",
       "  <thead>\n",
       "    <tr style=\"text-align: right;\">\n",
       "      <th></th>\n",
       "      <th>Model</th>\n",
       "      <th>Accuracy</th>\n",
       "      <th>F1 score</th>\n",
       "      <th>Precision score</th>\n",
       "      <th>Recall score</th>\n",
       "    </tr>\n",
       "  </thead>\n",
       "  <tbody>\n",
       "    <tr>\n",
       "      <th>0</th>\n",
       "      <td>CNN model 1</td>\n",
       "      <td>0.9480</td>\n",
       "      <td>0.947893</td>\n",
       "      <td>0.948744</td>\n",
       "      <td>0.9480</td>\n",
       "    </tr>\n",
       "    <tr>\n",
       "      <th>1</th>\n",
       "      <td>CNN model 2</td>\n",
       "      <td>0.9880</td>\n",
       "      <td>0.988003</td>\n",
       "      <td>0.988067</td>\n",
       "      <td>0.9880</td>\n",
       "    </tr>\n",
       "    <tr>\n",
       "      <th>2</th>\n",
       "      <td>CNN model 3</td>\n",
       "      <td>0.9887</td>\n",
       "      <td>0.988696</td>\n",
       "      <td>0.988728</td>\n",
       "      <td>0.9887</td>\n",
       "    </tr>\n",
       "    <tr>\n",
       "      <th>3</th>\n",
       "      <td>CNN model 4</td>\n",
       "      <td>0.9904</td>\n",
       "      <td>0.990399</td>\n",
       "      <td>0.990414</td>\n",
       "      <td>0.9904</td>\n",
       "    </tr>\n",
       "  </tbody>\n",
       "</table>\n",
       "</div>"
      ],
      "text/plain": [
       "         Model  Accuracy  F1 score  Precision score  Recall score\n",
       "0  CNN model 1    0.9480  0.947893         0.948744        0.9480\n",
       "1  CNN model 2    0.9880  0.988003         0.988067        0.9880\n",
       "2  CNN model 3    0.9887  0.988696         0.988728        0.9887\n",
       "3  CNN model 4    0.9904  0.990399         0.990414        0.9904"
      ]
     },
     "execution_count": 144,
     "metadata": {
      "tags": []
     },
     "output_type": "execute_result"
    }
   ],
   "source": [
    "cnn_l1 = [\"CNN model 1\", a_cnn1, f1_cnn1, p_cnn1, r_cnn1]\n",
    "cnn_l2 = [\"CNN model 2\", a_cnn2, f1_cnn2, p_cnn2, r_cnn2]\n",
    "cnn_l3 = [\"CNN model 3\", a_cnn3, f1_cnn3, p_cnn3, r_cnn3]\n",
    "cnn_l4 = [\"CNN model 4\", a_cnn4, f1_cnn4, p_cnn4, r_cnn4]\n",
    "data = [cnn_l1, cnn_l2, cnn_l3, cnn_l4]\n",
    "df = pd.DataFrame(data, columns = ['Model', 'Accuracy', 'F1 score', 'Precision score', 'Recall score'])\n",
    "df"
   ]
  },
  {
   "cell_type": "markdown",
   "metadata": {
    "colab_type": "text",
    "id": "OD8bufM57nRO"
   },
   "source": [
    "# Overall Summary of all the models"
   ]
  },
  {
   "cell_type": "code",
   "execution_count": 147,
   "metadata": {
    "colab": {
     "base_uri": "https://localhost:8080/",
     "height": 457
    },
    "colab_type": "code",
    "id": "golFpgBxopTX",
    "outputId": "7857ae6e-b5d4-4059-8cc3-fe093b4401c7"
   },
   "outputs": [
    {
     "data": {
      "text/html": [
       "<div>\n",
       "<style scoped>\n",
       "    .dataframe tbody tr th:only-of-type {\n",
       "        vertical-align: middle;\n",
       "    }\n",
       "\n",
       "    .dataframe tbody tr th {\n",
       "        vertical-align: top;\n",
       "    }\n",
       "\n",
       "    .dataframe thead th {\n",
       "        text-align: right;\n",
       "    }\n",
       "</style>\n",
       "<table border=\"1\" class=\"dataframe\">\n",
       "  <thead>\n",
       "    <tr style=\"text-align: right;\">\n",
       "      <th></th>\n",
       "      <th>Model</th>\n",
       "      <th>Accuracy</th>\n",
       "      <th>F1 score</th>\n",
       "      <th>Precision score</th>\n",
       "      <th>Recall score</th>\n",
       "    </tr>\n",
       "  </thead>\n",
       "  <tbody>\n",
       "    <tr>\n",
       "      <th>0</th>\n",
       "      <td>SVM model 1</td>\n",
       "      <td>0.9831</td>\n",
       "      <td>0.983092</td>\n",
       "      <td>0.983098</td>\n",
       "      <td>0.9831</td>\n",
       "    </tr>\n",
       "    <tr>\n",
       "      <th>1</th>\n",
       "      <td>SVM model 2</td>\n",
       "      <td>0.9785</td>\n",
       "      <td>0.978481</td>\n",
       "      <td>0.978501</td>\n",
       "      <td>0.9785</td>\n",
       "    </tr>\n",
       "    <tr>\n",
       "      <th>2</th>\n",
       "      <td>SVM model 3</td>\n",
       "      <td>0.8782</td>\n",
       "      <td>0.878697</td>\n",
       "      <td>0.884757</td>\n",
       "      <td>0.8782</td>\n",
       "    </tr>\n",
       "    <tr>\n",
       "      <th>3</th>\n",
       "      <td>MLP model 1</td>\n",
       "      <td>0.9248</td>\n",
       "      <td>0.924705</td>\n",
       "      <td>0.924956</td>\n",
       "      <td>0.9248</td>\n",
       "    </tr>\n",
       "    <tr>\n",
       "      <th>4</th>\n",
       "      <td>MLP model 2</td>\n",
       "      <td>0.9472</td>\n",
       "      <td>0.947134</td>\n",
       "      <td>0.947205</td>\n",
       "      <td>0.9472</td>\n",
       "    </tr>\n",
       "    <tr>\n",
       "      <th>5</th>\n",
       "      <td>MLP model 3</td>\n",
       "      <td>0.9459</td>\n",
       "      <td>0.946498</td>\n",
       "      <td>0.948778</td>\n",
       "      <td>0.9459</td>\n",
       "    </tr>\n",
       "    <tr>\n",
       "      <th>6</th>\n",
       "      <td>MLP model 4</td>\n",
       "      <td>0.9482</td>\n",
       "      <td>0.948169</td>\n",
       "      <td>0.948236</td>\n",
       "      <td>0.9482</td>\n",
       "    </tr>\n",
       "    <tr>\n",
       "      <th>7</th>\n",
       "      <td>MLP model 5</td>\n",
       "      <td>0.9543</td>\n",
       "      <td>0.954276</td>\n",
       "      <td>0.954438</td>\n",
       "      <td>0.9543</td>\n",
       "    </tr>\n",
       "    <tr>\n",
       "      <th>8</th>\n",
       "      <td>MLP model 6</td>\n",
       "      <td>0.9527</td>\n",
       "      <td>0.952713</td>\n",
       "      <td>0.952806</td>\n",
       "      <td>0.9527</td>\n",
       "    </tr>\n",
       "    <tr>\n",
       "      <th>9</th>\n",
       "      <td>CNN model 1</td>\n",
       "      <td>0.9480</td>\n",
       "      <td>0.947893</td>\n",
       "      <td>0.948744</td>\n",
       "      <td>0.9480</td>\n",
       "    </tr>\n",
       "    <tr>\n",
       "      <th>10</th>\n",
       "      <td>CNN model 2</td>\n",
       "      <td>0.9880</td>\n",
       "      <td>0.988003</td>\n",
       "      <td>0.988067</td>\n",
       "      <td>0.9880</td>\n",
       "    </tr>\n",
       "    <tr>\n",
       "      <th>11</th>\n",
       "      <td>CNN model 3</td>\n",
       "      <td>0.9887</td>\n",
       "      <td>0.988696</td>\n",
       "      <td>0.988728</td>\n",
       "      <td>0.9887</td>\n",
       "    </tr>\n",
       "    <tr>\n",
       "      <th>12</th>\n",
       "      <td>CNN model 4</td>\n",
       "      <td>0.9904</td>\n",
       "      <td>0.990399</td>\n",
       "      <td>0.990414</td>\n",
       "      <td>0.9904</td>\n",
       "    </tr>\n",
       "  </tbody>\n",
       "</table>\n",
       "</div>"
      ],
      "text/plain": [
       "          Model  Accuracy  F1 score  Precision score  Recall score\n",
       "0   SVM model 1    0.9831  0.983092         0.983098        0.9831\n",
       "1   SVM model 2    0.9785  0.978481         0.978501        0.9785\n",
       "2   SVM model 3    0.8782  0.878697         0.884757        0.8782\n",
       "3   MLP model 1    0.9248  0.924705         0.924956        0.9248\n",
       "4   MLP model 2    0.9472  0.947134         0.947205        0.9472\n",
       "5   MLP model 3    0.9459  0.946498         0.948778        0.9459\n",
       "6   MLP model 4    0.9482  0.948169         0.948236        0.9482\n",
       "7   MLP model 5    0.9543  0.954276         0.954438        0.9543\n",
       "8   MLP model 6    0.9527  0.952713         0.952806        0.9527\n",
       "9   CNN model 1    0.9480  0.947893         0.948744        0.9480\n",
       "10  CNN model 2    0.9880  0.988003         0.988067        0.9880\n",
       "11  CNN model 3    0.9887  0.988696         0.988728        0.9887\n",
       "12  CNN model 4    0.9904  0.990399         0.990414        0.9904"
      ]
     },
     "execution_count": 147,
     "metadata": {
      "tags": []
     },
     "output_type": "execute_result"
    }
   ],
   "source": [
    "data = [svm_l1, svm_l2, svm_l3, nn_l1, nn_l2, nn_l3, nn_l4, nn_l5, nn_l6, cnn_l1, cnn_l2, cnn_l3, cnn_l4]\n",
    "df = pd.DataFrame(data, columns = ['Model', 'Accuracy', 'F1 score', 'Precision score', 'Recall score'])\n",
    "df"
   ]
  }
 ],
 "metadata": {
  "accelerator": "GPU",
  "colab": {
   "collapsed_sections": [],
   "name": "Copy of Copy of assign3q3.ipynb",
   "provenance": []
  },
  "kernelspec": {
   "display_name": "Python 3",
   "language": "python",
   "name": "python3"
  },
  "language_info": {
   "codemirror_mode": {
    "name": "ipython",
    "version": 3
   },
   "file_extension": ".py",
   "mimetype": "text/x-python",
   "name": "python",
   "nbconvert_exporter": "python",
   "pygments_lexer": "ipython3",
   "version": "3.6.9"
  }
 },
 "nbformat": 4,
 "nbformat_minor": 1
}
